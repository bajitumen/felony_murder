{
 "cells": [
  {
   "cell_type": "code",
   "execution_count": 1,
   "metadata": {},
   "outputs": [],
   "source": [
    "import pandas as pd\n",
    "import os"
   ]
  },
  {
   "cell_type": "code",
   "execution_count": 2,
   "metadata": {},
   "outputs": [
    {
     "name": "stderr",
     "output_type": "stream",
     "text": [
      "/var/folders/kr/0qb7zrk131s0clkz4t60yg080000gn/T/ipykernel_1022/2213273624.py:14: DtypeWarning: Columns (0) have mixed types. Specify dtype option on import or set low_memory=False.\n",
      "  df = pd.read_csv(os.path.join(dir_path, file))\n",
      "/var/folders/kr/0qb7zrk131s0clkz4t60yg080000gn/T/ipykernel_1022/2213273624.py:14: DtypeWarning: Columns (0) have mixed types. Specify dtype option on import or set low_memory=False.\n",
      "  df = pd.read_csv(os.path.join(dir_path, file))\n",
      "/var/folders/kr/0qb7zrk131s0clkz4t60yg080000gn/T/ipykernel_1022/2213273624.py:14: DtypeWarning: Columns (0) have mixed types. Specify dtype option on import or set low_memory=False.\n",
      "  df = pd.read_csv(os.path.join(dir_path, file))\n",
      "/var/folders/kr/0qb7zrk131s0clkz4t60yg080000gn/T/ipykernel_1022/2213273624.py:14: DtypeWarning: Columns (0) have mixed types. Specify dtype option on import or set low_memory=False.\n",
      "  df = pd.read_csv(os.path.join(dir_path, file))\n",
      "/var/folders/kr/0qb7zrk131s0clkz4t60yg080000gn/T/ipykernel_1022/2213273624.py:14: DtypeWarning: Columns (0) have mixed types. Specify dtype option on import or set low_memory=False.\n",
      "  df = pd.read_csv(os.path.join(dir_path, file))\n",
      "/var/folders/kr/0qb7zrk131s0clkz4t60yg080000gn/T/ipykernel_1022/2213273624.py:14: DtypeWarning: Columns (0) have mixed types. Specify dtype option on import or set low_memory=False.\n",
      "  df = pd.read_csv(os.path.join(dir_path, file))\n",
      "/var/folders/kr/0qb7zrk131s0clkz4t60yg080000gn/T/ipykernel_1022/2213273624.py:14: DtypeWarning: Columns (0) have mixed types. Specify dtype option on import or set low_memory=False.\n",
      "  df = pd.read_csv(os.path.join(dir_path, file))\n",
      "/var/folders/kr/0qb7zrk131s0clkz4t60yg080000gn/T/ipykernel_1022/2213273624.py:14: DtypeWarning: Columns (0) have mixed types. Specify dtype option on import or set low_memory=False.\n",
      "  df = pd.read_csv(os.path.join(dir_path, file))\n"
     ]
    }
   ],
   "source": [
    "dir_path = '/Users/tumendemberelshalkhaan/Desktop/felony_murder/raw_data/Florida_Raw'\n",
    "\n",
    "file_list = os.listdir(dir_path)\n",
    "\n",
    "csv_files = [file for file in file_list if file.endswith('.csv')]\n",
    "\n",
    "data_frames = {}\n",
    "\n",
    "for file in csv_files:\n",
    "    df = pd.read_csv(os.path.join(dir_path, file))\n",
    "    data_frames[file] = df"
   ]
  },
  {
   "cell_type": "code",
   "execution_count": 3,
   "metadata": {},
   "outputs": [],
   "source": [
    "contents = data_frames['CONTENTS.csv']\n",
    "incarhist = data_frames['INMATE_ACTIVE_INCARHIST.csv']\n",
    "offcps = data_frames['INMATE_ACTIVE_OFFENSES_CPS.csv']\n",
    "offprpr = data_frames['INMATE_ACTIVE_OFFENSES_prpr.csv']\n",
    "detainers = data_frames['INMATE_ACTIVE_DETAINERS.csv']\n",
    "root = data_frames['INMATE_ACTIVE_ROOT.csv']\n",
    "aliases = data_frames['INMATE_ACTIVE_ALIASES.csv']\n",
    "residence = data_frames['OFFENDER_RESIDENCE.csv']\n",
    "offccs = data_frames['OFFENDER_OFFENSES_CCS.csv']"
   ]
  },
  {
   "cell_type": "code",
   "execution_count": 7,
   "metadata": {},
   "outputs": [
    {
     "name": "stdout",
     "output_type": "stream",
     "text": [
      "Index(['DCNumber', 'Sequence', 'OffenseDate', 'DateAdjudicated', 'County',\n",
      "       'CaseNumber', 'ProbationTerm', 'ParoleTerm',\n",
      "       'adjudicationcharge_descr'],\n",
      "      dtype='object')\n",
      "Index(['DCNumber', 'Sequence', 'OffenseDate', 'DateAdjudicated', 'County',\n",
      "       'CaseNumber', 'prisonterm', 'adjudicationcharge_descr'],\n",
      "      dtype='object')\n",
      "Index(['DCNumber', 'Sequence', 'OffenseDate', 'DateAdjudicated', 'County',\n",
      "       'CaseNumber', 'prisonterm', 'adjudicationcharge_descr'],\n",
      "      dtype='object')\n"
     ]
    }
   ],
   "source": [
    "print(offccs.columns)\n",
    "print(offprpr.columns)\n",
    "print(offcps.columns)"
   ]
  },
  {
   "cell_type": "code",
   "execution_count": 8,
   "metadata": {},
   "outputs": [],
   "source": [
    "offenses = pd.concat([offcps, offccs, offprpr], sort = False)"
   ]
  },
  {
   "cell_type": "code",
   "execution_count": 9,
   "metadata": {},
   "outputs": [],
   "source": [
    "fl = pd.merge(right = offenses, left = root, on = 'DCNumber', how = 'left')"
   ]
  },
  {
   "cell_type": "code",
   "execution_count": 10,
   "metadata": {},
   "outputs": [
    {
     "name": "stdout",
     "output_type": "stream",
     "text": [
      "Index(['DCNumber', 'LastName', 'FirstName', 'MiddleName', 'NameSuffix', 'Race',\n",
      "       'Sex', 'BirthDate', 'PrisonReleaseDate', 'ReceiptDate',\n",
      "       'releasedateflag_descr', 'race_descr', 'custody_description',\n",
      "       'FACILITY_description', 'Sequence', 'OffenseDate', 'DateAdjudicated',\n",
      "       'County', 'CaseNumber', 'prisonterm', 'adjudicationcharge_descr',\n",
      "       'ProbationTerm', 'ParoleTerm'],\n",
      "      dtype='object')\n"
     ]
    }
   ],
   "source": [
    "print(fl.columns)"
   ]
  },
  {
   "cell_type": "code",
   "execution_count": null,
   "metadata": {},
   "outputs": [],
   "source": [
    "fl = fl.drop(['Case #', 'Status', 'Book Date'], axis=1)"
   ]
  },
  {
   "cell_type": "code",
   "execution_count": null,
   "metadata": {},
   "outputs": [],
   "source": [
    "fl = fl.rename(columns={\n",
    "    'DCNumber': 'ID',\n",
    "    'BirthDate': 'Date of Birth',\n",
    "    'OffenseDate': 'Date of Offense',\n",
    "    'adjudicationcharge_descr': 'Offense Description'\n",
    "    })\n",
    "\n",
    "fl['State'] = 'Florida'"
   ]
  }
 ],
 "metadata": {
  "kernelspec": {
   "display_name": "base",
   "language": "python",
   "name": "python3"
  },
  "language_info": {
   "codemirror_mode": {
    "name": "ipython",
    "version": 3
   },
   "file_extension": ".py",
   "mimetype": "text/x-python",
   "name": "python",
   "nbconvert_exporter": "python",
   "pygments_lexer": "ipython3",
   "version": "3.9.13 (main, Aug 25 2022, 18:29:29) \n[Clang 12.0.0 ]"
  },
  "orig_nbformat": 4,
  "vscode": {
   "interpreter": {
    "hash": "b1988c020eef046636d63474e1fd15d52ead3307ab1218b8c6d1bdc717b4bdae"
   }
  }
 },
 "nbformat": 4,
 "nbformat_minor": 2
}
