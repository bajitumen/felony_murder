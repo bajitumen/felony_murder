{
 "cells": [
  {
   "cell_type": "code",
   "execution_count": null,
   "metadata": {},
   "outputs": [],
   "source": [
    "import pandas as pd \n",
    "\n",
    "nv= pd.read_csv('/Users/tumendemberelshalkhaan/Desktop/felony_murder/raw_data/Nevada_Raw.csv') "
   ]
  },
  {
   "cell_type": "code",
   "execution_count": null,
   "metadata": {},
   "outputs": [],
   "source": [
    "nv = nv.rename(columns={\n",
    "    'NDOC_Number': 'ID',\n",
    "    'Offender Name': 'Name',\n",
    "    'Gender': 'Sex',\n",
    "    'Location_Code': 'Facility',\n",
    "    'Sentence Type': 'Sentence Description',\n",
    "    'Offense_Description': 'Offense Description'\n",
    "    })\n",
    "\n",
    "nv['State'] = 'Illinois'"
   ]
  },
  {
   "cell_type": "code",
   "execution_count": 8,
   "metadata": {},
   "outputs": [
    {
     "name": "stdout",
     "output_type": "stream",
     "text": [
      "Index(['Location_Date', 'Daily_Population_Code', 'NDOC_Number',\n",
      "       'Offender_Name', 'Gender', 'Imprisonment_Status',\n",
      "       'Imprisonment_Status_EPROD', 'Imprisonment_Status_Date_EPROD',\n",
      "       'Location_Code', 'Location_Type', 'Age_As_Of_Location_Date', 'Race',\n",
      "       'Ethnicity', 'Case_Number', 'Sentence_Date', 'Sentence_Number',\n",
      "       'Sentence_Type', 'Offense_Description'],\n",
      "      dtype='object')\n",
      "New Commitment                             28620\n",
      "Parole                                      9594\n",
      "Probation Violator No New Conviction        2122\n",
      "Parole Violator No New Conviction           1957\n",
      "Probation Violator with New Conviction       759\n",
      "Mandatory Parole                             723\n",
      "Parole Violator with New Conviction          415\n",
      "Interstate Compact                           240\n",
      "Not Physically Rec with Concurrent Sent      170\n",
      "Mandatory Parole Violator No New Conv        127\n",
      "Safe Keeper                                   36\n",
      "Physically Rec with Concurrent Sent           27\n",
      "Mandatory Parole Violator with New Conv        5\n",
      "Safe Keeper - County                           3\n",
      "Name: Imprisonment_Status, dtype: int64\n"
     ]
    }
   ],
   "source": [
    "print(nv.columns)\n",
    "print(nv['Imprisonment_Status'].value_counts())"
   ]
  },
  {
   "cell_type": "code",
   "execution_count": null,
   "metadata": {},
   "outputs": [],
   "source": [
    "nv = nv.drop(['Location_Date', 'Daily_Population_Code', 'Imprisonment_Status',\n",
    "       'Imprisonment_Status_EPROD', 'Imprisonment_Status_Date_EPROD', 'Location_Type',\n",
    "       'Ethnicity', 'Case_Number', 'Sentence_Date', 'Sentence_Number'], axis = 1)"
   ]
  }
 ],
 "metadata": {
  "kernelspec": {
   "display_name": "base",
   "language": "python",
   "name": "python3"
  },
  "language_info": {
   "codemirror_mode": {
    "name": "ipython",
    "version": 3
   },
   "file_extension": ".py",
   "mimetype": "text/x-python",
   "name": "python",
   "nbconvert_exporter": "python",
   "pygments_lexer": "ipython3",
   "version": "3.9.13"
  },
  "orig_nbformat": 4,
  "vscode": {
   "interpreter": {
    "hash": "b1988c020eef046636d63474e1fd15d52ead3307ab1218b8c6d1bdc717b4bdae"
   }
  }
 },
 "nbformat": 4,
 "nbformat_minor": 2
}
