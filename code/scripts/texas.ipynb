{
 "cells": [
  {
   "cell_type": "code",
   "execution_count": 3,
   "metadata": {},
   "outputs": [],
   "source": [
    "import pandas as pd\n",
    "\n",
    "tx = pd.read_csv('/Users/tumendemberelshalkhaan/Desktop/felony_murder/raw_data/Texas_Raw.csv') "
   ]
  },
  {
   "attachments": {},
   "cell_type": "markdown",
   "metadata": {},
   "source": [
    "Now that we have read in the data, we beginning cleaning it to match our standard dataset."
   ]
  },
  {
   "cell_type": "code",
   "execution_count": 2,
   "metadata": {},
   "outputs": [],
   "source": [
    "tx = tx.rename(columns={\n",
    "    'TDCJ Number': 'ID', \n",
    "    'Current Facility': 'Facility',\n",
    "    'TDCJ Offense': 'Offense Description',\n",
    "    'Sentence (Years)': 'Sentence Length'\n",
    "    })\n",
    "\n",
    "tx['State'] = 'Texas'\n",
    "\n",
    "tx['Offense Date'] = pd.to_datetime(tx['Offense Date'], format='%m/%d/%Y')\n",
    "\n",
    "tx = tx.drop(['SID Number', \n",
    "              'Projected Release', \n",
    "              'Maximum Sentence Date',\n",
    "              'Sentence Date',\n",
    "              'Parole Eligibility Date',\n",
    "              'Case Number',\n",
    "              'Last Parole Decision',\n",
    "              'Next Parole Review Date',\n",
    "              'Parole Review Status', \n",
    "              'Unnamed: 20'\n",
    "              ], axis=1)\n",
    "\n",
    "race_map = {'W': 'White', 'B': 'Black', 'A': 'Asian', 'H': 'Hispanic', 'O': 'Other', 'I': 'Native American'}\n",
    "\n",
    "tx['Race'] = tx['Race'].map(race_map)\n",
    "\n",
    "gender_map = {'F': 'Female', 'M': 'Male'}\n",
    "\n",
    "tx['Gender'] = tx['Gender'].map(gender_map)"
   ]
  }
 ],
 "metadata": {
  "kernelspec": {
   "display_name": "base",
   "language": "python",
   "name": "python3"
  },
  "language_info": {
   "codemirror_mode": {
    "name": "ipython",
    "version": 3
   },
   "file_extension": ".py",
   "mimetype": "text/x-python",
   "name": "python",
   "nbconvert_exporter": "python",
   "pygments_lexer": "ipython3",
   "version": "3.9.13"
  },
  "orig_nbformat": 4,
  "vscode": {
   "interpreter": {
    "hash": "b1988c020eef046636d63474e1fd15d52ead3307ab1218b8c6d1bdc717b4bdae"
   }
  }
 },
 "nbformat": 4,
 "nbformat_minor": 2
}
