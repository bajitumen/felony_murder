{
 "cells": [
  {
   "cell_type": "code",
   "execution_count": 2,
   "metadata": {},
   "outputs": [],
   "source": [
    "import pandas as pd\n",
    "import chardet"
   ]
  },
  {
   "cell_type": "code",
   "execution_count": 2,
   "metadata": {},
   "outputs": [
    {
     "name": "stdout",
     "output_type": "stream",
     "text": [
      "{'encoding': 'ascii', 'confidence': 1.0, 'language': ''}\n"
     ]
    }
   ],
   "source": [
    "with open('/Users/tumendemberelshalkhaan/Desktop/felony_murder/raw_data/Oklahoma_Raw/Vendor_Offense_Extract_Text.dat', 'rb') as f:\n",
    "    result = chardet.detect(f.read())\n",
    "print(result)"
   ]
  },
  {
   "cell_type": "code",
   "execution_count": 4,
   "metadata": {},
   "outputs": [],
   "source": [
    "off_widths = [38, 40, 1]\n",
    "offense = pd.read_fwf(\"/Users/tumendemberelshalkhaan/Desktop/felony_murder/raw_data/Oklahoma_Raw/Vendor_Offense_Extract_Text.dat\", widths=off_widths, header=None, encoding='ascii')"
   ]
  },
  {
   "cell_type": "code",
   "execution_count": 6,
   "metadata": {},
   "outputs": [],
   "source": [
    "prof_widths = [11, 95, 8, 40, 8, 1, 40, 40, 2, 2, 4, 40, 8]\n",
    "profiles = pd.read_fwf(\"/Users/tumendemberelshalkhaan/Desktop/felony_murder/raw_data/Oklahoma_Raw/Vendor_Profile_Extract_Text.DAT\", widths=prof_widths, header=None, encoding='ascii')"
   ]
  },
  {
   "cell_type": "code",
   "execution_count": 7,
   "metadata": {},
   "outputs": [],
   "source": [
    "sent_widths = [11, 20, 20, 40, 40, 8, 41, 12, 13]\n",
    "sentences = pd.read_fwf(\"/Users/tumendemberelshalkhaan/Desktop/felony_murder/raw_data/Oklahoma_Raw/Vendor_sentence_Extract_Text.dat\", widths=sent_widths, header=None, encoding='ascii')"
   ]
  }
 ],
 "metadata": {
  "kernelspec": {
   "display_name": "base",
   "language": "python",
   "name": "python3"
  },
  "language_info": {
   "codemirror_mode": {
    "name": "ipython",
    "version": 3
   },
   "file_extension": ".py",
   "mimetype": "text/x-python",
   "name": "python",
   "nbconvert_exporter": "python",
   "pygments_lexer": "ipython3",
   "version": "3.9.13 (main, Aug 25 2022, 18:29:29) \n[Clang 12.0.0 ]"
  },
  "orig_nbformat": 4,
  "vscode": {
   "interpreter": {
    "hash": "b1988c020eef046636d63474e1fd15d52ead3307ab1218b8c6d1bdc717b4bdae"
   }
  }
 },
 "nbformat": 4,
 "nbformat_minor": 2
}
