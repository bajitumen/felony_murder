{
 "cells": [
  {
   "cell_type": "code",
   "execution_count": 1,
   "metadata": {},
   "outputs": [],
   "source": [
    "import pandas as pd \n",
    "import chardet"
   ]
  },
  {
   "cell_type": "code",
   "execution_count": null,
   "metadata": {},
   "outputs": [],
   "source": [
    "with open('/Users/tumendemberelshalkhaan/Desktop/raw_data/North_Carolina_Raw', 'rb') as f:\n",
    "    result = chardet.detect(f.read())\n",
    "print(result)"
   ]
  },
  {
   "cell_type": "code",
   "execution_count": 3,
   "metadata": {},
   "outputs": [],
   "source": [
    "prof_widths = [7, 10, 30, 30, 5, 30, 30, 30, 30, 15, 30, 30, 30, 30, 30, 30, 14, 18]\n",
    "\n",
    "nc = pd.read_fwf('/Users/tumendemberelshalkhaan/Desktop/felony_murder/raw_data/North_Carolina_Raw/North_Carolina_Raw', widths=prof_widths, header=None, encoding='ascii')"
   ]
  },
  {
   "cell_type": "code",
   "execution_count": 4,
   "metadata": {},
   "outputs": [],
   "source": [
    "off_widths = [7, 2, 3, 30, 8, 30, 30, 30, 30, 3, 30, 30, 30, 10, 10, 15, 30, 30, 3, 30, 7, 7, 7, 7, 7, 7, 7, 30, 30, 30, 30, 30, 30, 5, 5, 30, 2, 3, 30, 2, 3, 30, 10, 10, 1, 30, 10, 30, 10, 10, 8, 10, 30, 10, 8]\n",
    "\n",
    "offenses = pd.read_fwf('/Users/tumendemberelshalkhaan/Desktop/felony_murder/raw_data/North_Carolina_Raw/OFNT3CE1.dat', widths=off_widths, header=None, encoding='ascii')"
   ]
  },
  {
   "cell_type": "code",
   "execution_count": 3,
   "metadata": {},
   "outputs": [],
   "source": [
    "# Column names to be added\n",
    "column_names=[\"ID\", \"Date Of Birth\", \"Sex\", \"Race\", \"DOC Number\", \"Skin Tone\", \"Hair Color\", \"Eye Color\", \"Build\", \"City\", \"County\", \"State\", \"Country\", \"Origin\", \"Ethnicity\", \"Primary Language\", \"X\", \"Date of Admission\"]\n",
    "\n",
    "# Create DataFrame by assigning column names\n",
    "nc.columns = column_names"
   ]
  }
 ],
 "metadata": {
  "kernelspec": {
   "display_name": "base",
   "language": "python",
   "name": "python3"
  },
  "language_info": {
   "codemirror_mode": {
    "name": "ipython",
    "version": 3
   },
   "file_extension": ".py",
   "mimetype": "text/x-python",
   "name": "python",
   "nbconvert_exporter": "python",
   "pygments_lexer": "ipython3",
   "version": "3.9.13"
  },
  "orig_nbformat": 4,
  "vscode": {
   "interpreter": {
    "hash": "b1988c020eef046636d63474e1fd15d52ead3307ab1218b8c6d1bdc717b4bdae"
   }
  }
 },
 "nbformat": 4,
 "nbformat_minor": 2
}
