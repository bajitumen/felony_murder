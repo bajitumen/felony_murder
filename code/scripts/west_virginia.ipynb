{
 "cells": [
  {
   "cell_type": "code",
   "execution_count": 1,
   "metadata": {},
   "outputs": [],
   "source": [
    "import pandas as pd\n",
    "\n",
    "wv = pd.read_csv(\"/Users/tumendemberelshalkhaan/Desktop/felony_murder/raw_data/West_Virginia_Raw.csv\")"
   ]
  },
  {
   "cell_type": "code",
   "execution_count": 2,
   "metadata": {},
   "outputs": [],
   "source": [
    "wv = wv.rename(columns={\n",
    "    'Full Name': 'Name',\n",
    "    'Charge(s)': 'Offense Description'\n",
    "    })\n",
    "\n",
    "wv['State'] = 'West Virginia'\n",
    "\n",
    "wv['Date Of Birth'] = pd.to_datetime(wv['Date Of Birth'], format='%m/%d/%Y')\n",
    "\n",
    "wv = wv.drop(['Case #', 'Status', 'Book Date'], axis=1)"
   ]
  },
  {
   "cell_type": "code",
   "execution_count": 4,
   "metadata": {},
   "outputs": [],
   "source": [
    "crimes = wv['Offense Description'].value_counts()"
   ]
  }
 ],
 "metadata": {
  "kernelspec": {
   "display_name": "base",
   "language": "python",
   "name": "python3"
  },
  "language_info": {
   "codemirror_mode": {
    "name": "ipython",
    "version": 3
   },
   "file_extension": ".py",
   "mimetype": "text/x-python",
   "name": "python",
   "nbconvert_exporter": "python",
   "pygments_lexer": "ipython3",
   "version": "3.9.13 (main, Aug 25 2022, 18:29:29) \n[Clang 12.0.0 ]"
  },
  "orig_nbformat": 4,
  "vscode": {
   "interpreter": {
    "hash": "b1988c020eef046636d63474e1fd15d52ead3307ab1218b8c6d1bdc717b4bdae"
   }
  }
 },
 "nbformat": 4,
 "nbformat_minor": 2
}
