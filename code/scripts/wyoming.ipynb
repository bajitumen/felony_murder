{
 "cells": [
  {
   "cell_type": "code",
   "execution_count": 9,
   "metadata": {},
   "outputs": [],
   "source": [
    "import pandas as pd"
   ]
  },
  {
   "cell_type": "code",
   "execution_count": 10,
   "metadata": {},
   "outputs": [],
   "source": [
    "wy = pd.read_csv(\"/Users/tumendemberelshalkhaan/Desktop/felony_murder/raw_data/Wyoming_Raw.csv\")"
   ]
  },
  {
   "cell_type": "code",
   "execution_count": 11,
   "metadata": {},
   "outputs": [
    {
     "name": "stdout",
     "output_type": "stream",
     "text": [
      "Index(['DOC_ID', 'COUNT_DATE', 'PROTECTED', 'SEX', 'RACE_DESC', 'BIRTH_DATE',\n",
      "       'ADMISSION_DATE', 'OFFENSE_NO', 'SENT_TERM', 'MIN_TERM_MM',\n",
      "       'MIN_TERM_YY', 'MAX_TERM_MM', 'MAX_TERM_YY', 'OFF_COUNTY',\n",
      "       'SENTENCE_DT', 'STATUTE', 'OFF_DESC1', 'OFF_DESC2'],\n",
      "      dtype='object')\n"
     ]
    }
   ],
   "source": [
    "print(wy.columns)"
   ]
  },
  {
   "cell_type": "code",
   "execution_count": 12,
   "metadata": {},
   "outputs": [],
   "source": [
    "wy['Offense Description'] = wy['OFF_DESC1'].str.cat(wy['OFF_DESC2'], sep=' ')\n",
    "\n",
    "# Drop columns A and B\n",
    "wy = wy.drop(['OFF_DESC1', 'OFF_DESC2'], axis=1)"
   ]
  },
  {
   "cell_type": "code",
   "execution_count": 13,
   "metadata": {},
   "outputs": [],
   "source": [
    "wy = wy.rename(columns={\n",
    "    'DOC_ID': 'ID', \n",
    "    'COUNT_DATE':'Date of Offense',\n",
    "    'SEX': 'Sex',\n",
    "    'RACE_DESC': 'Race',\n",
    "    'BIRTH_DATE': 'Date of Birth',\n",
    "    'OFF_COUNTY': 'County',\n",
    "    'OFFENSE_NO': 'Offense Code'\n",
    "    })\n",
    "\n",
    "wy['State'] = 'Wyoming'"
   ]
  }
 ],
 "metadata": {
  "kernelspec": {
   "display_name": "base",
   "language": "python",
   "name": "python3"
  },
  "language_info": {
   "codemirror_mode": {
    "name": "ipython",
    "version": 3
   },
   "file_extension": ".py",
   "mimetype": "text/x-python",
   "name": "python",
   "nbconvert_exporter": "python",
   "pygments_lexer": "ipython3",
   "version": "3.9.13"
  },
  "orig_nbformat": 4,
  "vscode": {
   "interpreter": {
    "hash": "b1988c020eef046636d63474e1fd15d52ead3307ab1218b8c6d1bdc717b4bdae"
   }
  }
 },
 "nbformat": 4,
 "nbformat_minor": 2
}
