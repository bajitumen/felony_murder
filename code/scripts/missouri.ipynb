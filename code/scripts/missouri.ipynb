{
 "cells": [
  {
   "cell_type": "code",
   "execution_count": 1,
   "metadata": {},
   "outputs": [],
   "source": [
    "import pandas as pd "
   ]
  },
  {
   "cell_type": "code",
   "execution_count": 3,
   "metadata": {},
   "outputs": [],
   "source": [
    "widths = [8, 45, 30, 30, 8, 8, 21, 8, 12, 74, 3, 8, 8, 8, 4, 4, 8, 3, 4, 4]\n",
    "# Read the file using read_fwf()\n",
    "mi = pd.read_fwf('/Users/tumendemberelshalkhaan/Desktop/felony_murder/raw_data/Missouri_Raw', widths=widths, header=None, encoding='ISO-8859-1')"
   ]
  },
  {
   "cell_type": "code",
   "execution_count": 7,
   "metadata": {},
   "outputs": [],
   "source": [
    "# Column names to be added\n",
    "column_names=[\"ID\",\"Name\",'Race', \"Sex\", \"Date Of Birth\", \"X1\", \"X2\", \"County\", \"X3\", \"Offense\", \"X4\", \"Date X1\", \"Date X2\", \"Date X3\", \"X5\", \"X6\", \"Date X4\", \"X7\", \"X8\", \"X9\"]\n",
    "\n",
    "# Create DataFrame by assigning column names\n",
    "mi.columns = column_names\n",
    "\n",
    "date_cols = [col for col in mi.columns if 'Date' in col]\n",
    "\n",
    "# Convert the values in those columns to datetime format\n",
    "mi[date_cols] = mi[date_cols].apply(pd.to_datetime, format='%Y%m%d', errors='coerce')"
   ]
  }
 ],
 "metadata": {
  "kernelspec": {
   "display_name": "base",
   "language": "python",
   "name": "python3"
  },
  "language_info": {
   "codemirror_mode": {
    "name": "ipython",
    "version": 3
   },
   "file_extension": ".py",
   "mimetype": "text/x-python",
   "name": "python",
   "nbconvert_exporter": "python",
   "pygments_lexer": "ipython3",
   "version": "3.9.13 (main, Aug 25 2022, 18:29:29) \n[Clang 12.0.0 ]"
  },
  "orig_nbformat": 4,
  "vscode": {
   "interpreter": {
    "hash": "b1988c020eef046636d63474e1fd15d52ead3307ab1218b8c6d1bdc717b4bdae"
   }
  }
 },
 "nbformat": 4,
 "nbformat_minor": 2
}
