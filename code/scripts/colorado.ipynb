{
 "cells": [
  {
   "cell_type": "code",
   "execution_count": null,
   "metadata": {},
   "outputs": [],
   "source": [
    "import pandas as pd\n",
    "from datetime import datetime"
   ]
  },
  {
   "cell_type": "code",
   "execution_count": null,
   "metadata": {},
   "outputs": [],
   "source": [
    "co = pd.read_csv(\"/Users/tumendemberelshalkhaan/Desktop/felony_murder/raw_data/Colorado_Raw.csv\")"
   ]
  },
  {
   "cell_type": "code",
   "execution_count": null,
   "metadata": {},
   "outputs": [],
   "source": [
    "print(co.columns)"
   ]
  },
  {
   "cell_type": "code",
   "execution_count": null,
   "metadata": {},
   "outputs": [],
   "source": [
    "co = co.rename(columns={\n",
    "    'DOC #': 'ID', \n",
    "    'OFFENSE DATE':'Date of Offense',\n",
    "    'SEX': 'Sex',\n",
    "    'RACE': 'Race',\n",
    "    'DATE OF BIRTH': 'Date of Birth',\n",
    "    'OFFENSE DESCRIPTION': 'Offense Description',\n",
    "    'OFFENSE COUNTY': 'County',\n",
    "    'OFFENSE_NO': 'Offense Code',\n",
    "    'SENTENCE YEARS': 'Sentence Length',\n",
    "    'LIFE SENTENCE DESCRITION': 'Sentence Description',\n",
    "    'STATUTE NUMBER': 'Statute'\n",
    "    })\n",
    "\n",
    "co['State'] = 'Colorado'"
   ]
  },
  {
   "cell_type": "code",
   "execution_count": null,
   "metadata": {},
   "outputs": [],
   "source": [
    "def convert_date(date_str):\n",
    "    year = int(date_str[-2:])\n",
    "    if year < 24:\n",
    "        year += 2000\n",
    "    else:\n",
    "        year += 1900\n",
    "    return pd.to_datetime(date_str, format='%d-%b-%Y').replace(year=year)"
   ]
  },
  {
   "cell_type": "code",
   "execution_count": null,
   "metadata": {},
   "outputs": [],
   "source": [
    "co['Date of Offense'] = co['Date of Offense'].apply(convert_date)\n",
    "co['Date of Birth'] = co['Date of Birth'].apply(convert_date)"
   ]
  }
 ],
 "metadata": {
  "kernelspec": {
   "display_name": "base",
   "language": "python",
   "name": "python3"
  },
  "language_info": {
   "codemirror_mode": {
    "name": "ipython",
    "version": 3
   },
   "file_extension": ".py",
   "mimetype": "text/x-python",
   "name": "python",
   "nbconvert_exporter": "python",
   "pygments_lexer": "ipython3",
   "version": "3.9.13 (main, Aug 25 2022, 18:29:29) \n[Clang 12.0.0 ]"
  },
  "orig_nbformat": 4,
  "vscode": {
   "interpreter": {
    "hash": "b1988c020eef046636d63474e1fd15d52ead3307ab1218b8c6d1bdc717b4bdae"
   }
  }
 },
 "nbformat": 4,
 "nbformat_minor": 2
}
