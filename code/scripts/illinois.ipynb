{
 "cells": [
  {
   "cell_type": "code",
   "execution_count": 11,
   "metadata": {},
   "outputs": [],
   "source": [
    "import pandas as pd"
   ]
  },
  {
   "cell_type": "code",
   "execution_count": 12,
   "metadata": {},
   "outputs": [],
   "source": [
    "il = pd.read_csv('/Users/tumendemberelshalkhaan/Desktop/felony_murder/raw_data/Illinois_Raw.csv')"
   ]
  },
  {
   "cell_type": "code",
   "execution_count": 13,
   "metadata": {},
   "outputs": [],
   "source": [
    "il = il.rename(columns={\n",
    "    'IDOC #': 'ID', \n",
    "    'Parent Institution': 'Facility',\n",
    "    'Holding Offense': 'Offense Description',\n",
    "    'Sentencing County': 'County',\n",
    "    'Sentence Years': 'Sentence Length',\n",
    "    'Truth in Sentencing': 'Sentencing Description'\n",
    "    })\n",
    "\n",
    "il['State'] = 'Illinois'"
   ]
  },
  {
   "cell_type": "code",
   "execution_count": 14,
   "metadata": {},
   "outputs": [],
   "source": [
    "il = il.drop(['Veteran Status', 'Current Admission Date', 'Admission Type', \n",
    "              'Projected Mandatory Supervised Release (MSR) Date', 'Projected Discharge Date',\n",
    "              'Custody Date', 'Sentence Date', 'Crime Class', 'Holding Offense Category',\n",
    "              'Offense Type', 'Crime Class', 'Sentence Months'], axis = 1)"
   ]
  }
 ],
 "metadata": {
  "kernelspec": {
   "display_name": "base",
   "language": "python",
   "name": "python3"
  },
  "language_info": {
   "codemirror_mode": {
    "name": "ipython",
    "version": 3
   },
   "file_extension": ".py",
   "mimetype": "text/x-python",
   "name": "python",
   "nbconvert_exporter": "python",
   "pygments_lexer": "ipython3",
   "version": "3.9.13 (main, Aug 25 2022, 18:29:29) \n[Clang 12.0.0 ]"
  },
  "orig_nbformat": 4,
  "vscode": {
   "interpreter": {
    "hash": "b1988c020eef046636d63474e1fd15d52ead3307ab1218b8c6d1bdc717b4bdae"
   }
  }
 },
 "nbformat": 4,
 "nbformat_minor": 2
}
