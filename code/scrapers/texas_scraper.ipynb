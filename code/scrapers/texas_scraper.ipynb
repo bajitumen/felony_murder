{
 "cells": [
  {
   "cell_type": "code",
   "execution_count": null,
   "metadata": {},
   "outputs": [],
   "source": [
    "from bs4 import BeautifulSoup\n",
    "import pandas as pd\n",
    "import requests"
   ]
  },
  {
   "cell_type": "code",
   "execution_count": null,
   "metadata": {},
   "outputs": [],
   "source": [
    "df = pd.read_csv('/Users/tumendemberelshalkhaan/Desktop/raw_data/Texas_Raw.csv')\n",
    "ids = [\"{:08d}\".format(item) for item in df['SID Number'].tolist()]"
   ]
  },
  {
   "cell_type": "code",
   "execution_count": 34,
   "metadata": {},
   "outputs": [],
   "source": [
    "tx = pd.DataFrame(columns =[])"
   ]
  },
  {
   "cell_type": "code",
   "execution_count": 35,
   "metadata": {},
   "outputs": [],
   "source": [
    "for id in ids:\n",
    "    url = 'https://inmate.tdcj.texas.gov//InmateSearch/viewDetail.action?sid=' + id\n",
    "    response = requests.get(url)\n",
    "    soup = BeautifulSoup(response.text, 'lxml')\n",
    "\n",
    "    table = soup.find('table', class_ = 'tdcj_table')\n",
    "    rows = table.find_all('tr')\n",
    "\n",
    "    offdates = []\n",
    "    offenses = []\n",
    "    sendates = []\n",
    "    counties = []\n",
    "    cases = []\n",
    "    sentences = []\n",
    "\n",
    "    for row in rows[1:]:\n",
    "        cols = row.find_all('td')\n",
    "        offdates.append(cols[0].text)\n",
    "        offenses.append(cols[1].text)\n",
    "        sendates.append(cols[2].text)\n",
    "        counties.append(cols[3].text)\n",
    "        cases.append(cols[4].text)\n",
    "        sentences.append(cols[4].text)\n",
    "\n",
    "    crimes = [list(pair) for pair in zip(offenses, sentences, counties, sendates, offdates, cases)]\n",
    "\n",
    "    rows = []\n",
    "    for pair in crimes:\n",
    "\n",
    "        row = {\n",
    "            'ID': id,\n",
    "            'Offense Description': pair[0],\n",
    "            'Sentence Length': pair[1],\n",
    "            'County': pair[2],\n",
    "            'Sentence Date': pair[3],\n",
    "            'Offense Date': pair[4],\n",
    "            'Case Number': pair[5]\n",
    "        }\n",
    "        rows.append(row)\n",
    "        \n",
    "    tx = pd.concat([tx, pd.DataFrame(rows)])"
   ]
  }
 ],
 "metadata": {
  "kernelspec": {
   "display_name": "base",
   "language": "python",
   "name": "python3"
  },
  "language_info": {
   "codemirror_mode": {
    "name": "ipython",
    "version": 3
   },
   "file_extension": ".py",
   "mimetype": "text/x-python",
   "name": "python",
   "nbconvert_exporter": "python",
   "pygments_lexer": "ipython3",
   "version": "3.9.13"
  },
  "orig_nbformat": 4,
  "vscode": {
   "interpreter": {
    "hash": "b1988c020eef046636d63474e1fd15d52ead3307ab1218b8c6d1bdc717b4bdae"
   }
  }
 },
 "nbformat": 4,
 "nbformat_minor": 2
}
