{
 "cells": [
  {
   "cell_type": "code",
   "execution_count": null,
   "metadata": {},
   "outputs": [],
   "source": [
    "# Import the necessary libraries and functions\n",
    "from selenium import webdriver\n",
    "from bs4 import BeautifulSoup\n",
    "from selenium.webdriver.support.ui import Select\n",
    "from selenium.webdriver.chrome.service import Service\n",
    "import pandas as pd\n",
    "import csv"
   ]
  },
  {
   "cell_type": "code",
   "execution_count": 127,
   "metadata": {},
   "outputs": [],
   "source": [
    "# Be sure to download the Chrome driver version that is appropriate for your browser. \n",
    "# Substitute the service item with the location of where your driver is saved.\n",
    "chrome_options = webdriver.ChromeOptions()\n",
    "chrome_options.add_argument('--ignore-certificate-errors')\n",
    "chrome_options.add_argument('--incognito')\n",
    "service = Service(\"/Users/tumendemberelshalkhaan/Downloads/chromedriver\")\n",
    "\n",
    "# Opening the website in the Chrome driver\n",
    "driver = webdriver.Chrome(service=service, options=chrome_options)\n",
    "driver.get('https://kdocrepository.doc.ks.gov/kasper/')\n",
    "ids = []\n"
   ]
  },
  {
   "cell_type": "code",
   "execution_count": null,
   "metadata": {},
   "outputs": [],
   "source": [
    "driver.find_element(\"xpath\", \".//*[@value='Agree']\").click()\n",
    "driver.find_element(\"xpath\", \".//*[@href='#collapse_advanced']\").click()\n",
    "page_source = driver.page_source\n",
    "\n",
    "# The BeautifulSoup library is useful for scraping static pages. We are using it here to scrape for the facility names\n",
    "soup = BeautifulSoup(page_source, 'lxml')\n",
    "select = soup.find('select', {'name': 'facility'})\n",
    "options = select.find_all('option')\n",
    "option_text = [option.text for option in options]\n",
    "prisons = option_text[1:]\n",
    "prisons = [s.rstrip() if s.endswith(' ') else s for s in prisons]\n",
    "\n",
    "# Return back to the main page with facility names stored\n",
    "driver.get('https://kdocrepository.doc.ks.gov/kasper/')"
   ]
  },
  {
   "cell_type": "code",
   "execution_count": null,
   "metadata": {},
   "outputs": [],
   "source": [
    "for prison in prisons:\n",
    "    driver.find_element(\"xpath\", \".//*[@href='#collapse_advanced']\").click()\n",
    "    supervision = Select(driver.find_element(\"name\", 'supervisionType'))\n",
    "    supervision.select_by_visible_text(\"Inmate\")\n",
    "    facility = Select(driver.find_element(\"name\", 'facility'))\n",
    "    facility.select_by_visible_text(prison)\n",
    "    driver.find_element(\"name\", \"submitBtn\").click()\n",
    "\n",
    "    driver.implicitly_wait(10)\n",
    "\n",
    "    while True:\n",
    "        try:\n",
    "            next = driver.find_element(\"xpath\", \"//a[contains(text(), 'Next')]\")\n",
    "        except:\n",
    "            break\n",
    "        table = driver.find_element(\"xpath\", \"//table\")\n",
    "        rows = table.find_elements(\"xpath\", \".//tr\")\n",
    "\n",
    "        for row in rows:\n",
    "            cells = row.find_elements(\"tag name\", \"td\")\n",
    "            if cells:\n",
    "                ids.append(cells[0].text)\n",
    "        next.click()\n",
    "        \n",
    "    driver.get('https://kdocrepository.doc.ks.gov/kasper/')"
   ]
  },
  {
   "cell_type": "code",
   "execution_count": 128,
   "metadata": {},
   "outputs": [],
   "source": [
    "with open('/Users/tumendemberelshalkhaan/Desktop/Kansas_DOC.csv', newline='') as ids:\n",
    "    # Create a CSV reader object\n",
    "    csvreader = csv.reader(ids)\n",
    "    \n",
    "    # Convert the CSV reader object to a list\n",
    "    ids = [item for sublist in csvreader for item in sublist]"
   ]
  },
  {
   "cell_type": "code",
   "execution_count": 125,
   "metadata": {},
   "outputs": [],
   "source": [
    "ks = pd.DataFrame(columns=['ID', 'Name', 'Race', 'Date Of Birth', 'Facility', 'County', 'Offense Description', 'Offense Date', 'Offense Code', 'Sentence Length', 'Sentencing Date', 'Admission Date', 'Release Date'])"
   ]
  },
  {
   "cell_type": "code",
   "execution_count": 129,
   "metadata": {},
   "outputs": [],
   "source": [
    "driver.find_element(\"xpath\", \".//*[@value='Agree']\").click()\n",
    "driver.find_element(\"xpath\", \".//*[@href='#collapse_advanced']\").click()\n"
   ]
  },
  {
   "cell_type": "code",
   "execution_count": 138,
   "metadata": {},
   "outputs": [],
   "source": [
    "driver.find_element(\"xpath\", \".//*[@href='#collapse_advanced']\").click()\n",
    "supervision = Select(driver.find_element(\"name\", 'supervisionType'))\n",
    "supervision.select_by_visible_text(\"Inmate\")\n",
    "facility = Select(driver.find_element(\"name\", 'facility'))\n",
    "facility.select_by_visible_text(\"El Dorado CF-Central\")\n",
    "driver.find_element(\"name\", \"submitBtn\").click()\n",
    "driver.implicitly_wait(10)\n",
    "driver.find_element(\"xpath\", \".//*[@href='/kasper/search/detail?kdocNumber=54639']\").click()"
   ]
  },
  {
   "cell_type": "code",
   "execution_count": 139,
   "metadata": {},
   "outputs": [],
   "source": [
    "for id in ids[6601:]:\n",
    "    driver.get('https://kdocrepository.doc.ks.gov/kasper/search/detail?kdocNumber=' + id)\n",
    "\n",
    "    page_source = driver.page_source\n",
    "\n",
    "    soup = BeautifulSoup(page_source, 'lxml')\n",
    "\n",
    "    try:\n",
    "        release_date = soup.find('span', text=('Earliest Possible Release Date (1)')).next_sibling.get_text()\n",
    "    except AttributeError:\n",
    "        release_date = None\n",
    "    try:\n",
    "        admin_date = soup.find('span', text=('Admission Date')).next_sibling.get_text()\n",
    "    except AttributeError:\n",
    "        admin_date = None\n",
    "    try:\n",
    "        fac = soup.find('a', href=lambda href: href and href.startswith('http://www.doc.ks.gov/facilities/')).get_text()\n",
    "    except AttributeError:\n",
    "        fac = None\n",
    "\n",
    "    name_table = soup.find(id = 'names')\n",
    "    name = name_table.find('td', string = 'Conviction').find_next_sibling('td').get_text()\n",
    "\n",
    "    birthdate_table = soup.find(id = 'birthdates')\n",
    "    dob = birthdate_table.find('td', string = 'True').find_next_sibling('td').get_text()\n",
    "    age = birthdate_table.find('td', string = 'True').find_next_sibling('td').find_next_sibling('td').get_text()\n",
    "\n",
    "    demo_table = soup.find(id = 'demographics')\n",
    "    demos = demo_table.find_all('td')\n",
    "    gender = demos[4].get_text()\n",
    "    race = demos[5].get_text()\n",
    "\n",
    "    con_table = soup.find(id = 'convictions').find('tbody')\n",
    "\n",
    "    offenses = []\n",
    "    offdates = []\n",
    "    sentences = []\n",
    "    sendates = []\n",
    "    counties = []\n",
    "    statuses = []\n",
    "\n",
    "    for row in con_table.find_all('tr'):\n",
    "        data = [cell.get_text(strip=True) for cell in row.find_all('td')]\n",
    "        counties.append(data[0])\n",
    "        offdates.append(data[2])\n",
    "        sendates.append(data[3])\n",
    "        sentences.append(data[4])\n",
    "        offenses.append(data[5])\n",
    "\n",
    "    histories = [list(history) for history in zip(offenses, sentences, counties, offdates, sendates)]\n",
    "\n",
    "    rows = []\n",
    "\n",
    "    for history in histories:\n",
    "            \n",
    "        row = {\n",
    "            'ID': id,\n",
    "            'Name': name,\n",
    "            'Date Of Birth': dob,\n",
    "            'Gender': gender,\n",
    "            'Race': race,\n",
    "            'Facility': fac,\n",
    "            'Offense Description': history[0],\n",
    "            'Offense Date': history[3],\n",
    "            'Sentence Length': history[1],\n",
    "            'Sentence Date': history[4],\n",
    "            'County': history[2],\n",
    "            'Admission Date': admin_date,\n",
    "            'Release Date': release_date\n",
    "            }\n",
    "        rows.append(row)\n",
    "            \n",
    "    ks = pd.concat([ks, pd.DataFrame(rows)])"
   ]
  },
  {
   "cell_type": "code",
   "execution_count": 140,
   "metadata": {},
   "outputs": [],
   "source": [
    "ks.to_csv('/Users/tumendemberelshalkhaan/Desktop/Kansas_Raw.csv', index=False)"
   ]
  }
 ],
 "metadata": {
  "kernelspec": {
   "display_name": "base",
   "language": "python",
   "name": "python3"
  },
  "language_info": {
   "codemirror_mode": {
    "name": "ipython",
    "version": 3
   },
   "file_extension": ".py",
   "mimetype": "text/x-python",
   "name": "python",
   "nbconvert_exporter": "python",
   "pygments_lexer": "ipython3",
   "version": "3.9.13 (main, Aug 25 2022, 18:29:29) \n[Clang 12.0.0 ]"
  },
  "orig_nbformat": 4,
  "vscode": {
   "interpreter": {
    "hash": "b1988c020eef046636d63474e1fd15d52ead3307ab1218b8c6d1bdc717b4bdae"
   }
  }
 },
 "nbformat": 4,
 "nbformat_minor": 2
}
