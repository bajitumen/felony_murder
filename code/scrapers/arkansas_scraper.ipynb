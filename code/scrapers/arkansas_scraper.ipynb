{
 "cells": [
  {
   "cell_type": "code",
   "execution_count": null,
   "metadata": {},
   "outputs": [],
   "source": [
    "from selenium import webdriver\n",
    "from bs4 import BeautifulSoup\n",
    "from selenium.webdriver.support.ui import Select\n",
    "from selenium.webdriver.chrome.service import Service\n",
    "import pandas as pd\n",
    "import requests\n",
    "from requests.adapters import HTTPAdapter\n",
    "from urllib3.util.retry import Retry"
   ]
  },
  {
   "cell_type": "code",
   "execution_count": null,
   "metadata": {},
   "outputs": [],
   "source": [
    "chrome_options = webdriver.ChromeOptions()\n",
    "chrome_options.add_argument('--ignore-certificate-errors')\n",
    "chrome_options.add_argument('--incognito')\n",
    "chrome_options.add_argument('--headless')\n",
    "service = Service(\"/Users/tumendemberelshalkhaan/Downloads/chromedriver\")\n",
    "driver = webdriver.Chrome(service=service, options = chrome_options)\n",
    "driver.get('https://apps.ark.org/inmate_info/index.php')\n",
    "ids = []"
   ]
  },
  {
   "cell_type": "code",
   "execution_count": null,
   "metadata": {},
   "outputs": [],
   "source": [
    "page_source = driver.page_source\n",
    "soup = BeautifulSoup(page_source, 'lxml')\n",
    "select = soup.find('select', {'name': 'RACE'})\n",
    "options = select.find_all('option')\n",
    "option_text = [option.text for option in options]\n",
    "races = option_text[1:]"
   ]
  },
  {
   "cell_type": "code",
   "execution_count": null,
   "metadata": {},
   "outputs": [],
   "source": [
    "for race in races:\n",
    "\n",
    "    driver.find_element(\"name\", \"disclaimer\").click()\n",
    "    select = Select(driver.find_element(\"name\", 'RACE'))\n",
    "    select.select_by_visible_text(race)\n",
    "    driver.find_element(\"xpath\", \".//*[@value='Search']\").click()\n",
    "    \n",
    "    while True:\n",
    "        try:\n",
    "            next = driver.find_element(\"xpath\", \"//a[contains(text(), '→')]\")\n",
    "        except:\n",
    "            break\n",
    "        title = driver.find_element(\"xpath\", \"//table\")\n",
    "        table = title.find_element(\"xpath\", 'tbody')\n",
    "        rows = table.find_elements(\"xpath\", \".//tr\")\n",
    "\n",
    "        for row in rows:\n",
    "            cells = row.find_elements(\"tag name\", \"td\")\n",
    "            if cells:\n",
    "                ids.append(cells[2].text)\n",
    "        next.click()\n",
    "        \n",
    "    driver.get('https://apps.ark.org/inmate_info/index.php')"
   ]
  },
  {
   "cell_type": "code",
   "execution_count": null,
   "metadata": {},
   "outputs": [],
   "source": [
    "ar = pd.DataFrame(columns=['ID', 'Name', 'Race', 'Date Of Birth', 'Facility', 'Gender', 'Offense Description', 'Sentence Length', 'Sentencing Date'])"
   ]
  },
  {
   "cell_type": "code",
   "execution_count": null,
   "metadata": {},
   "outputs": [],
   "source": [
    "failed_ids = []\n",
    "\n",
    "for id in ids:\n",
    "    try:\n",
    "        url = ('https://apps.ark.org/inmate_info/search.php?dcnum=' + id)\n",
    "        session = requests.Session()\n",
    "        retry = Retry(connect=3, backoff_factor=0.5)\n",
    "        adapter = HTTPAdapter(max_retries=retry)\n",
    "        session.mount('http://', adapter)\n",
    "        session.mount('https://', adapter)\n",
    "        response = session.get(url)\n",
    "        soup = BeautifulSoup(response.text, 'html.parser')\n",
    "\n",
    "        name_elem = soup.find('div', text='Name:')\n",
    "        name = name_elem.find_next_sibling('div').get_text()\n",
    "\n",
    "        race_elem = soup.find('div', text='Race')\n",
    "        race = race_elem.find_next_sibling('div').get_text()\n",
    "\n",
    "        dob_elem = soup.find('div', text='Birth Date')\n",
    "        dob = dob_elem.find_next_sibling('div').get_text()\n",
    "\n",
    "        fac_elem = soup.find('div', text='Facility')\n",
    "        fac = fac_elem.find_next_sibling('div').get_text()\n",
    "\n",
    "        gender_elem = soup.find('div', text='Sex')\n",
    "        gender = gender_elem.find_next_sibling('div').get_text()\n",
    "\n",
    "        table = soup.find('h3', text = 'Current Prison Sentence History').find_next_sibling('table').find('tbody')\n",
    "\n",
    "        offenses = []\n",
    "        sentences = []\n",
    "        sendates = []\n",
    "        counties = []\n",
    "\n",
    "        for row in table.find_all('tr'):\n",
    "            data = [cell.get_text(strip=True) for cell in row.find_all('td')]\n",
    "            offenses.append(data[0])\n",
    "            sendates.append(data[1])\n",
    "            counties.append(data[2])\n",
    "            sentences.append(data[4])\n",
    "\n",
    "        histories = [list(history) for history in zip(offenses, sentences, counties, sendates)]\n",
    "\n",
    "        rows = []\n",
    "\n",
    "        for history in histories:\n",
    "            row = {\n",
    "                'ID': id,\n",
    "                'Name': name,\n",
    "                'Date Of Birth': dob,\n",
    "                'Gender': gender,\n",
    "                'Race': race,\n",
    "                'Facility': fac,\n",
    "                'Offense Description': history[0],\n",
    "                'Sentence Length': history[1],\n",
    "                'Sentencing Date': history[3],\n",
    "                'County': history[2]\n",
    "            }\n",
    "            rows.append(row)\n",
    "\n",
    "        ar = pd.concat([ar, pd.DataFrame(rows)])\n",
    "        \n",
    "    except Exception as e:\n",
    "        print(f\"Failed to scrape {id}. Error: {e}\")\n",
    "        failed_ids.append(id)\n",
    "        continue"
   ]
  },
  {
   "cell_type": "code",
   "execution_count": null,
   "metadata": {},
   "outputs": [],
   "source": [
    "ar.to_csv('/Users/tumendemberelshalkhaan/Desktop/Arkansas_Raw.csv', index=False)"
   ]
  }
 ],
 "metadata": {
  "kernelspec": {
   "display_name": "base",
   "language": "python",
   "name": "python3"
  },
  "language_info": {
   "codemirror_mode": {
    "name": "ipython",
    "version": 3
   },
   "file_extension": ".py",
   "mimetype": "text/x-python",
   "name": "python",
   "nbconvert_exporter": "python",
   "pygments_lexer": "ipython3",
   "version": "3.9.13 (main, Aug 25 2022, 18:29:29) \n[Clang 12.0.0 ]"
  },
  "orig_nbformat": 4,
  "vscode": {
   "interpreter": {
    "hash": "b1988c020eef046636d63474e1fd15d52ead3307ab1218b8c6d1bdc717b4bdae"
   }
  }
 },
 "nbformat": 4,
 "nbformat_minor": 2
}
