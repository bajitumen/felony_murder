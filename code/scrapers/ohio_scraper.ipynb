{
 "cells": [
  {
   "cell_type": "code",
   "execution_count": null,
   "metadata": {},
   "outputs": [],
   "source": [
    "from selenium import webdriver\n",
    "from bs4 import BeautifulSoup\n",
    "from selenium.webdriver.support.ui import Select\n",
    "from selenium.webdriver.chrome.service import Service\n",
    "import requests\n",
    "import pandas as pd"
   ]
  },
  {
   "cell_type": "code",
   "execution_count": null,
   "metadata": {},
   "outputs": [],
   "source": [
    "chrome_options = webdriver.ChromeOptions()\n",
    "chrome_options.add_argument('--ignore-certificate-errors')\n",
    "chrome_options.add_argument('--incognito')\n",
    "chrome_options.add_argument('--headless')\n",
    "service = Service(\"/Users/tumendemberelshalkhaan/Downloads/chromedriver\")\n",
    "driver = webdriver.Chrome(service=service, options=chrome_options)\n",
    "driver.get('https://appgateway.drc.ohio.gov/OffenderSearch')\n",
    "ids = []"
   ]
  },
  {
   "cell_type": "code",
   "execution_count": null,
   "metadata": {},
   "outputs": [],
   "source": [
    "page_source = driver.page_source\n",
    "soup = BeautifulSoup(page_source, 'lxml')\n",
    "select = soup.find('select', {'name': 'CntyCommitment'})\n",
    "options = select.find_all('option')\n",
    "option_text = [option.text for option in options]\n",
    "counties = option_text[1:]"
   ]
  },
  {
   "cell_type": "code",
   "execution_count": null,
   "metadata": {},
   "outputs": [],
   "source": [
    "for county in counties:\n",
    "    \n",
    "    driver.find_element(\"xpath\", \".//*[@id='rdoI']/input\").click()\n",
    "    select = Select(driver.find_element(\"name\", 'CntyCommitment'))\n",
    "    select.select_by_visible_text(county)\n",
    "    driver.find_element(\"xpath\", \".//*[@value='Search']\").click()\n",
    "\n",
    "    current_button = driver.find_element(\"xpath\", \"//input[@type='button' and @disabled]\")\n",
    "\n",
    "    links = driver.find_elements(\"xpath\", \"//a[starts-with(@href, '/OffenderSearch/Search/Details/') and contains(@href, '/')]\")\n",
    "    for link in links:\n",
    "        if link.text != \"\":\n",
    "            ids.append(link.text)\n",
    "\n",
    "    # Loop through the buttons until there is no next button\n",
    "    while True:\n",
    "        # Find the next enabled button relative to the current button\n",
    "        try:\n",
    "            next_button = current_button.find_element(\"xpath\", \"./following-sibling::input[@type='button' and not(@disabled)]\")\n",
    "        except:\n",
    "            break\n",
    "        # Click the next button\n",
    "        next_button.click()\n",
    "        links = driver.find_elements(\"xpath\", \"//a[starts-with(@href, '/OffenderSearch/Search/Details/') and contains(@href, '/')]\")\n",
    "        for link in links:\n",
    "            if link.text != \"\":\n",
    "                ids.append(link.text)\n",
    "        # Set the current button to the next button\n",
    "\n",
    "        current_button = driver.find_element(\"xpath\", \"//input[@type='button' and @disabled]\")\n",
    "\n",
    "    driver.get('https://appgateway.drc.ohio.gov/OffenderSearch')"
   ]
  },
  {
   "cell_type": "code",
   "execution_count": null,
   "metadata": {},
   "outputs": [],
   "source": [
    "oh = pd.DataFrame(columns=[])"
   ]
  },
  {
   "cell_type": "code",
   "execution_count": null,
   "metadata": {},
   "outputs": [],
   "source": [
    "failed_ids = []\n",
    "\n",
    "for id in ids:\n",
    "    try:\n",
    "        url = ('https://appgateway.drc.ohio.gov/OffenderSearch/Search/Details/' + id)\n",
    "\n",
    "        response = requests.get(url)\n",
    "\n",
    "        soup = BeautifulSoup(response.text, 'html.parser')\n",
    "\n",
    "        name_element = soup.find('div', {'class': 'panel-heading text-center'})\n",
    "        name = name_element.text.strip()\n",
    "\n",
    "        dd = soup.find_all('dd')\n",
    "        dob = dd[1].text.strip()\n",
    "        gender = dd[2].text.strip()\n",
    "        race = dd[3].text.strip()\n",
    "        fac = dd[5].text.strip()\n",
    "\n",
    "        charges = []\n",
    "        charge_elements = soup.find_all('div', {'class': \"h4\"})\n",
    "        for charge in charge_elements:\n",
    "            charges.append(charge.text.strip())\n",
    "\n",
    "        codes = []\n",
    "        code_elements = soup.find_all('label', {'for': 'ORC:'})\n",
    "        for code in code_elements:\n",
    "            codes.append(code.next_sibling.strip())\n",
    "\n",
    "        sentences = []\n",
    "        sentence_elements = soup.find_all('label', {'for': ['Definite_Term_Yrs:', 'Max_Yrs:', 'SB201_Max_Yrs:', 'SB201_Mand_Max_Yrs:', 'Mand_AI_Yrs:', 'SB201_Min_Yrs:', 'SB201_Mand_Min_Yrs:']})\n",
    "        for sentence in sentence_elements:\n",
    "            sentences.append(sentence.next_sibling.strip())\n",
    "\n",
    "        counties = []\n",
    "        county_elements = soup.find_all('label', {'for': 'Committing_County:'})\n",
    "        for county in county_elements:\n",
    "            counties.append(county.next_sibling.strip())\n",
    "\n",
    "        sendates = []\n",
    "        sendate_elements = soup.find_all('label', {'for': 'Effective_Sentence_Date:'})\n",
    "        for sendate in sendate_elements:\n",
    "            sendates.append(sendate.next_sibling.strip())\n",
    "\n",
    "        counts = []\n",
    "        count_elements = soup.find_all('label', {'for': 'Counts:'})\n",
    "        for count in count_elements:\n",
    "            counts.append(count.next_sibling.strip())\n",
    "\n",
    "        crimes = [list(pair) for pair in zip(charges, codes, sentences, counties, sendates, counts)]\n",
    "\n",
    "        rows = []\n",
    "        for pair in crimes:\n",
    "\n",
    "            row = {\n",
    "                'ID': id,\n",
    "                'Name': name,\n",
    "                'Date Of Birth': dob,\n",
    "                'Gender': gender,\n",
    "                'Race': race,\n",
    "                'County': pair[3],\n",
    "                'Facility': fac,\n",
    "                'Offense Description': pair[0],\n",
    "                'Offense Code': pair[1],\n",
    "                'Sentence Date': pair[4],\n",
    "                'Sentence Length': pair[2],\n",
    "                'Counts': pair[5]\n",
    "            }\n",
    "            rows.append(row)\n",
    "            \n",
    "        oh = pd.concat([oh, pd.DataFrame(rows)])\n",
    "        \n",
    "    except Exception as e:\n",
    "        print(f\"Failed to scrape {id}. Error: {e}\")\n",
    "        failed_ids.append(id)\n",
    "        continue"
   ]
  },
  {
   "cell_type": "code",
   "execution_count": null,
   "metadata": {},
   "outputs": [],
   "source": [
    "oh.to_csv('/Users/tumendemberelshalkhaan/Desktop/felony_murder/raw_data/Ohio_Raw.csv', index=False)"
   ]
  }
 ],
 "metadata": {
  "kernelspec": {
   "display_name": "base",
   "language": "python",
   "name": "python3"
  },
  "language_info": {
   "codemirror_mode": {
    "name": "ipython",
    "version": 3
   },
   "file_extension": ".py",
   "mimetype": "text/x-python",
   "name": "python",
   "nbconvert_exporter": "python",
   "pygments_lexer": "ipython3",
   "version": "3.9.13 (main, Aug 25 2022, 18:29:29) \n[Clang 12.0.0 ]"
  },
  "orig_nbformat": 4,
  "vscode": {
   "interpreter": {
    "hash": "b1988c020eef046636d63474e1fd15d52ead3307ab1218b8c6d1bdc717b4bdae"
   }
  }
 },
 "nbformat": 4,
 "nbformat_minor": 2
}
