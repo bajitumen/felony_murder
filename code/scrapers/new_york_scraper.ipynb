{
 "cells": [
  {
   "cell_type": "code",
   "execution_count": null,
   "metadata": {},
   "outputs": [],
   "source": [
    "from selenium import webdriver\n",
    "from bs4 import BeautifulSoup\n",
    "from selenium.webdriver.chrome.service import Service\n",
    "import pandas as pd\n",
    "import csv\n",
    "import time"
   ]
  },
  {
   "cell_type": "code",
   "execution_count": null,
   "metadata": {},
   "outputs": [],
   "source": [
    "chrome_options = webdriver.ChromeOptions()\n",
    "chrome_options.add_argument('--ignore-certificate-errors')\n",
    "chrome_options.add_argument('--incognito')\n",
    "service = Service(\"/Users/tumendemberelshalkhaan/Downloads/chromedriver\")\n",
    "driver = webdriver.Chrome(service=service, options = chrome_options)\n",
    "driver.get('https://nysdoccslookup.doccs.ny.gov/') "
   ]
  },
  {
   "cell_type": "code",
   "execution_count": 53,
   "metadata": {},
   "outputs": [],
   "source": [
    "ny = pd.DataFrame(columns=[])"
   ]
  },
  {
   "cell_type": "code",
   "execution_count": 55,
   "metadata": {},
   "outputs": [
    {
     "ename": "ElementNotInteractableException",
     "evalue": "Message: element not interactable\n  (Session info: chrome=111.0.5563.64)\nStacktrace:\n0   chromedriver                        0x00000001045ad1c0 chromedriver + 4248000\n1   chromedriver                        0x000000010452ddc0 chromedriver + 3726784\n2   chromedriver                        0x00000001041e2d44 chromedriver + 273732\n3   chromedriver                        0x000000010422008c chromedriver + 524428\n4   chromedriver                        0x00000001042133e0 chromedriver + 472032\n5   chromedriver                        0x0000000104212bbc chromedriver + 469948\n6   chromedriver                        0x000000010425a054 chromedriver + 761940\n7   chromedriver                        0x0000000104211200 chromedriver + 463360\n8   chromedriver                        0x0000000104212318 chromedriver + 467736\n9   chromedriver                        0x000000010457b060 chromedriver + 4042848\n10  chromedriver                        0x000000010457f8a4 chromedriver + 4061348\n11  chromedriver                        0x00000001045873d0 chromedriver + 4092880\n12  chromedriver                        0x00000001045806e4 chromedriver + 4064996\n13  chromedriver                        0x00000001045560fc chromedriver + 3891452\n14  chromedriver                        0x00000001045a0a64 chromedriver + 4196964\n15  chromedriver                        0x00000001045a0bb8 chromedriver + 4197304\n16  chromedriver                        0x00000001045b4650 chromedriver + 4277840\n17  libsystem_pthread.dylib             0x00000001ab03206c _pthread_start + 148\n18  libsystem_pthread.dylib             0x00000001ab02ce2c thread_start + 8\n",
     "output_type": "error",
     "traceback": [
      "\u001b[0;31m---------------------------------------------------------------------------\u001b[0m",
      "\u001b[0;31mElementNotInteractableException\u001b[0m           Traceback (most recent call last)",
      "\u001b[0;32m/var/folders/kr/0qb7zrk131s0clkz4t60yg080000gn/T/ipykernel_48909/101915480.py\u001b[0m in \u001b[0;36m<module>\u001b[0;34m\u001b[0m\n\u001b[1;32m     17\u001b[0m         \u001b[0mlink\u001b[0m \u001b[0;34m=\u001b[0m \u001b[0mcols\u001b[0m\u001b[0;34m[\u001b[0m\u001b[0;36m0\u001b[0m\u001b[0;34m]\u001b[0m\u001b[0;34m\u001b[0m\u001b[0;34m\u001b[0m\u001b[0m\n\u001b[1;32m     18\u001b[0m         \u001b[0mid\u001b[0m \u001b[0;34m=\u001b[0m \u001b[0mlink\u001b[0m\u001b[0;34m.\u001b[0m\u001b[0mtext\u001b[0m\u001b[0;34m\u001b[0m\u001b[0;34m\u001b[0m\u001b[0m\n\u001b[0;32m---> 19\u001b[0;31m         \u001b[0mlink\u001b[0m\u001b[0;34m.\u001b[0m\u001b[0mclick\u001b[0m\u001b[0;34m(\u001b[0m\u001b[0;34m)\u001b[0m\u001b[0;34m\u001b[0m\u001b[0;34m\u001b[0m\u001b[0m\n\u001b[0m\u001b[1;32m     20\u001b[0m         \u001b[0mpage_source\u001b[0m \u001b[0;34m=\u001b[0m \u001b[0mdriver\u001b[0m\u001b[0;34m.\u001b[0m\u001b[0mpage_source\u001b[0m\u001b[0;34m\u001b[0m\u001b[0;34m\u001b[0m\u001b[0m\n\u001b[1;32m     21\u001b[0m         \u001b[0msoup\u001b[0m \u001b[0;34m=\u001b[0m \u001b[0mBeautifulSoup\u001b[0m\u001b[0;34m(\u001b[0m\u001b[0mpage_source\u001b[0m\u001b[0;34m,\u001b[0m \u001b[0;34m'lxml'\u001b[0m\u001b[0;34m)\u001b[0m\u001b[0;34m\u001b[0m\u001b[0;34m\u001b[0m\u001b[0m\n",
      "\u001b[0;32m~/opt/anaconda3/lib/python3.9/site-packages/selenium/webdriver/remote/webelement.py\u001b[0m in \u001b[0;36mclick\u001b[0;34m(self)\u001b[0m\n\u001b[1;32m     91\u001b[0m     \u001b[0;32mdef\u001b[0m \u001b[0mclick\u001b[0m\u001b[0;34m(\u001b[0m\u001b[0mself\u001b[0m\u001b[0;34m)\u001b[0m \u001b[0;34m->\u001b[0m \u001b[0;32mNone\u001b[0m\u001b[0;34m:\u001b[0m\u001b[0;34m\u001b[0m\u001b[0;34m\u001b[0m\u001b[0m\n\u001b[1;32m     92\u001b[0m         \u001b[0;34m\"\"\"Clicks the element.\"\"\"\u001b[0m\u001b[0;34m\u001b[0m\u001b[0;34m\u001b[0m\u001b[0m\n\u001b[0;32m---> 93\u001b[0;31m         \u001b[0mself\u001b[0m\u001b[0;34m.\u001b[0m\u001b[0m_execute\u001b[0m\u001b[0;34m(\u001b[0m\u001b[0mCommand\u001b[0m\u001b[0;34m.\u001b[0m\u001b[0mCLICK_ELEMENT\u001b[0m\u001b[0;34m)\u001b[0m\u001b[0;34m\u001b[0m\u001b[0;34m\u001b[0m\u001b[0m\n\u001b[0m\u001b[1;32m     94\u001b[0m \u001b[0;34m\u001b[0m\u001b[0m\n\u001b[1;32m     95\u001b[0m     \u001b[0;32mdef\u001b[0m \u001b[0msubmit\u001b[0m\u001b[0;34m(\u001b[0m\u001b[0mself\u001b[0m\u001b[0;34m)\u001b[0m\u001b[0;34m:\u001b[0m\u001b[0;34m\u001b[0m\u001b[0;34m\u001b[0m\u001b[0m\n",
      "\u001b[0;32m~/opt/anaconda3/lib/python3.9/site-packages/selenium/webdriver/remote/webelement.py\u001b[0m in \u001b[0;36m_execute\u001b[0;34m(self, command, params)\u001b[0m\n\u001b[1;32m    401\u001b[0m             \u001b[0mparams\u001b[0m \u001b[0;34m=\u001b[0m \u001b[0;34m{\u001b[0m\u001b[0;34m}\u001b[0m\u001b[0;34m\u001b[0m\u001b[0;34m\u001b[0m\u001b[0m\n\u001b[1;32m    402\u001b[0m         \u001b[0mparams\u001b[0m\u001b[0;34m[\u001b[0m\u001b[0;34m\"id\"\u001b[0m\u001b[0;34m]\u001b[0m \u001b[0;34m=\u001b[0m \u001b[0mself\u001b[0m\u001b[0;34m.\u001b[0m\u001b[0m_id\u001b[0m\u001b[0;34m\u001b[0m\u001b[0;34m\u001b[0m\u001b[0m\n\u001b[0;32m--> 403\u001b[0;31m         \u001b[0;32mreturn\u001b[0m \u001b[0mself\u001b[0m\u001b[0;34m.\u001b[0m\u001b[0m_parent\u001b[0m\u001b[0;34m.\u001b[0m\u001b[0mexecute\u001b[0m\u001b[0;34m(\u001b[0m\u001b[0mcommand\u001b[0m\u001b[0;34m,\u001b[0m \u001b[0mparams\u001b[0m\u001b[0;34m)\u001b[0m\u001b[0;34m\u001b[0m\u001b[0;34m\u001b[0m\u001b[0m\n\u001b[0m\u001b[1;32m    404\u001b[0m \u001b[0;34m\u001b[0m\u001b[0m\n\u001b[1;32m    405\u001b[0m     \u001b[0;32mdef\u001b[0m \u001b[0mfind_element\u001b[0m\u001b[0;34m(\u001b[0m\u001b[0mself\u001b[0m\u001b[0;34m,\u001b[0m \u001b[0mby\u001b[0m\u001b[0;34m=\u001b[0m\u001b[0mBy\u001b[0m\u001b[0;34m.\u001b[0m\u001b[0mID\u001b[0m\u001b[0;34m,\u001b[0m \u001b[0mvalue\u001b[0m\u001b[0;34m=\u001b[0m\u001b[0;32mNone\u001b[0m\u001b[0;34m)\u001b[0m \u001b[0;34m->\u001b[0m \u001b[0mWebElement\u001b[0m\u001b[0;34m:\u001b[0m\u001b[0;34m\u001b[0m\u001b[0;34m\u001b[0m\u001b[0m\n",
      "\u001b[0;32m~/opt/anaconda3/lib/python3.9/site-packages/selenium/webdriver/remote/webdriver.py\u001b[0m in \u001b[0;36mexecute\u001b[0;34m(self, driver_command, params)\u001b[0m\n\u001b[1;32m    438\u001b[0m         \u001b[0mresponse\u001b[0m \u001b[0;34m=\u001b[0m \u001b[0mself\u001b[0m\u001b[0;34m.\u001b[0m\u001b[0mcommand_executor\u001b[0m\u001b[0;34m.\u001b[0m\u001b[0mexecute\u001b[0m\u001b[0;34m(\u001b[0m\u001b[0mdriver_command\u001b[0m\u001b[0;34m,\u001b[0m \u001b[0mparams\u001b[0m\u001b[0;34m)\u001b[0m\u001b[0;34m\u001b[0m\u001b[0;34m\u001b[0m\u001b[0m\n\u001b[1;32m    439\u001b[0m         \u001b[0;32mif\u001b[0m \u001b[0mresponse\u001b[0m\u001b[0;34m:\u001b[0m\u001b[0;34m\u001b[0m\u001b[0;34m\u001b[0m\u001b[0m\n\u001b[0;32m--> 440\u001b[0;31m             \u001b[0mself\u001b[0m\u001b[0;34m.\u001b[0m\u001b[0merror_handler\u001b[0m\u001b[0;34m.\u001b[0m\u001b[0mcheck_response\u001b[0m\u001b[0;34m(\u001b[0m\u001b[0mresponse\u001b[0m\u001b[0;34m)\u001b[0m\u001b[0;34m\u001b[0m\u001b[0;34m\u001b[0m\u001b[0m\n\u001b[0m\u001b[1;32m    441\u001b[0m             \u001b[0mresponse\u001b[0m\u001b[0;34m[\u001b[0m\u001b[0;34m\"value\"\u001b[0m\u001b[0;34m]\u001b[0m \u001b[0;34m=\u001b[0m \u001b[0mself\u001b[0m\u001b[0;34m.\u001b[0m\u001b[0m_unwrap_value\u001b[0m\u001b[0;34m(\u001b[0m\u001b[0mresponse\u001b[0m\u001b[0;34m.\u001b[0m\u001b[0mget\u001b[0m\u001b[0;34m(\u001b[0m\u001b[0;34m\"value\"\u001b[0m\u001b[0;34m,\u001b[0m \u001b[0;32mNone\u001b[0m\u001b[0;34m)\u001b[0m\u001b[0;34m)\u001b[0m\u001b[0;34m\u001b[0m\u001b[0;34m\u001b[0m\u001b[0m\n\u001b[1;32m    442\u001b[0m             \u001b[0;32mreturn\u001b[0m \u001b[0mresponse\u001b[0m\u001b[0;34m\u001b[0m\u001b[0;34m\u001b[0m\u001b[0m\n",
      "\u001b[0;32m~/opt/anaconda3/lib/python3.9/site-packages/selenium/webdriver/remote/errorhandler.py\u001b[0m in \u001b[0;36mcheck_response\u001b[0;34m(self, response)\u001b[0m\n\u001b[1;32m    243\u001b[0m                 \u001b[0malert_text\u001b[0m \u001b[0;34m=\u001b[0m \u001b[0mvalue\u001b[0m\u001b[0;34m[\u001b[0m\u001b[0;34m\"alert\"\u001b[0m\u001b[0;34m]\u001b[0m\u001b[0;34m.\u001b[0m\u001b[0mget\u001b[0m\u001b[0;34m(\u001b[0m\u001b[0;34m\"text\"\u001b[0m\u001b[0;34m)\u001b[0m\u001b[0;34m\u001b[0m\u001b[0;34m\u001b[0m\u001b[0m\n\u001b[1;32m    244\u001b[0m             \u001b[0;32mraise\u001b[0m \u001b[0mexception_class\u001b[0m\u001b[0;34m(\u001b[0m\u001b[0mmessage\u001b[0m\u001b[0;34m,\u001b[0m \u001b[0mscreen\u001b[0m\u001b[0;34m,\u001b[0m \u001b[0mstacktrace\u001b[0m\u001b[0;34m,\u001b[0m \u001b[0malert_text\u001b[0m\u001b[0;34m)\u001b[0m  \u001b[0;31m# type: ignore[call-arg]  # mypy is not smart enough here\u001b[0m\u001b[0;34m\u001b[0m\u001b[0;34m\u001b[0m\u001b[0m\n\u001b[0;32m--> 245\u001b[0;31m         \u001b[0;32mraise\u001b[0m \u001b[0mexception_class\u001b[0m\u001b[0;34m(\u001b[0m\u001b[0mmessage\u001b[0m\u001b[0;34m,\u001b[0m \u001b[0mscreen\u001b[0m\u001b[0;34m,\u001b[0m \u001b[0mstacktrace\u001b[0m\u001b[0;34m)\u001b[0m\u001b[0;34m\u001b[0m\u001b[0;34m\u001b[0m\u001b[0m\n\u001b[0m",
      "\u001b[0;31mElementNotInteractableException\u001b[0m: Message: element not interactable\n  (Session info: chrome=111.0.5563.64)\nStacktrace:\n0   chromedriver                        0x00000001045ad1c0 chromedriver + 4248000\n1   chromedriver                        0x000000010452ddc0 chromedriver + 3726784\n2   chromedriver                        0x00000001041e2d44 chromedriver + 273732\n3   chromedriver                        0x000000010422008c chromedriver + 524428\n4   chromedriver                        0x00000001042133e0 chromedriver + 472032\n5   chromedriver                        0x0000000104212bbc chromedriver + 469948\n6   chromedriver                        0x000000010425a054 chromedriver + 761940\n7   chromedriver                        0x0000000104211200 chromedriver + 463360\n8   chromedriver                        0x0000000104212318 chromedriver + 467736\n9   chromedriver                        0x000000010457b060 chromedriver + 4042848\n10  chromedriver                        0x000000010457f8a4 chromedriver + 4061348\n11  chromedriver                        0x00000001045873d0 chromedriver + 4092880\n12  chromedriver                        0x00000001045806e4 chromedriver + 4064996\n13  chromedriver                        0x00000001045560fc chromedriver + 3891452\n14  chromedriver                        0x00000001045a0a64 chromedriver + 4196964\n15  chromedriver                        0x00000001045a0bb8 chromedriver + 4197304\n16  chromedriver                        0x00000001045b4650 chromedriver + 4277840\n17  libsystem_pthread.dylib             0x00000001ab03206c _pthread_start + 148\n18  libsystem_pthread.dylib             0x00000001ab02ce2c thread_start + 8\n"
     ]
    }
   ],
   "source": [
    "driver.find_element(\"id\", \"lst\").send_keys('a')\n",
    "driver.find_element(\"xpath\", \"//button[contains(text(), 'Search')]\").click() \n",
    "\n",
    "time.sleep(2)   \n",
    "while True:\n",
    "    try:\n",
    "        next = driver.find_element(\"xpath\", \"//a[contains(text(), 'Next')]\")\n",
    "    except:\n",
    "        break\n",
    "    \n",
    "    table = driver.find_element('xpath', \"//table\")\n",
    "    rows = table.find_elements('xpath', '//tr')\n",
    "    \n",
    "    for row in rows:\n",
    "\n",
    "        cols = row.find_elements('xpath', \"//td\")\n",
    "        link = cols[0]\n",
    "        id = link.text\n",
    "        link.click()\n",
    "        page_source = driver.page_source\n",
    "        soup = BeautifulSoup(page_source, 'lxml')\n",
    "        status = soup.find('h5', text = 'Custody Status:').findParent().find_next_sibling('div').get_text()\n",
    "\n",
    "        if 'IN CUSTODY' in status:\n",
    "\n",
    "            name = soup.find('h3', class_ = 'font-weight-bold').get_text()\n",
    "            demos = soup.find_all('div', class_ = 'col-sm-3')\n",
    "            race = demos[5].get_text()\n",
    "            dob = demos[6].get_text()\n",
    "            age = demos[7].get_text()\n",
    "\n",
    "            county = soup.find('h5', text = 'County of Commitment:').findParent().find_next_sibling('div').get_text()\n",
    "            fac = soup.find('h5', text = 'Housing / Releasing Facility:').findParent().find_next_sibling('div').get_text()\n",
    "            min_sen = soup.find('h5', text = 'Aggregate Minimum Sentence').findParent().find_next_sibling('div').get_text()\n",
    "            max_sen = soup.find('h5', text = 'Aggregate Maximum Sentence').findParent().find_next_sibling('div').get_text()\n",
    "            admit_date = soup.find('h5', text = 'Date Received (current):').findParent().find_next_sibling('div').get_text()\n",
    "\n",
    "            table = soup.find('table', class_ = 'table table-bordered text-nowrap').find('tbody')\n",
    "            offenses = []\n",
    "            for row in table.find_all('tr'):\n",
    "                data = [cell.get_text(strip=True) for cell in row.find_all('td')]\n",
    "                if data[0]:\n",
    "                    offenses.append(data[0])\n",
    "\n",
    "            rows = []           \n",
    "\n",
    "            for offense in offenses:\n",
    "                row = {\n",
    "                    'ID': id,\n",
    "                    'Name': name,\n",
    "                    'Date Of Birth': dob,\n",
    "                    'Race': race,\n",
    "                    'Facility': fac,\n",
    "                    'Offense Description': offense,\n",
    "                    'Admission Date': admit_date,\n",
    "                    'Minimum Sentence': min_sen,\n",
    "                    'Maximum Sentence': max_sen,\n",
    "                    'County': county\n",
    "                }\n",
    "                rows.append(row)\n",
    "\n",
    "            ny = pd.concat([ny, pd.DataFrame(rows)])\n",
    "        time.sleep(1)\n",
    "        driver.find_element('xpath', \"//a[contains(text(), '< Back to Search Results')]\").click()\n",
    "    \n",
    "        \n",
    "    try:\n",
    "        next.click()\n",
    "        \n",
    "    except:\n",
    "        break"
   ]
  }
 ],
 "metadata": {
  "kernelspec": {
   "display_name": "base",
   "language": "python",
   "name": "python3"
  },
  "language_info": {
   "codemirror_mode": {
    "name": "ipython",
    "version": 3
   },
   "file_extension": ".py",
   "mimetype": "text/x-python",
   "name": "python",
   "nbconvert_exporter": "python",
   "pygments_lexer": "ipython3",
   "version": "3.9.13"
  },
  "orig_nbformat": 4,
  "vscode": {
   "interpreter": {
    "hash": "b1988c020eef046636d63474e1fd15d52ead3307ab1218b8c6d1bdc717b4bdae"
   }
  }
 },
 "nbformat": 4,
 "nbformat_minor": 2
}
