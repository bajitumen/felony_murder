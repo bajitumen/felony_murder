{
 "cells": [
  {
   "cell_type": "code",
   "execution_count": 1,
   "metadata": {},
   "outputs": [],
   "source": [
    "from selenium import webdriver\n",
    "from bs4 import BeautifulSoup\n",
    "from selenium.webdriver.chrome.service import Service\n",
    "import time\n",
    "import pandas as pd\n",
    "import string\n",
    "import csv"
   ]
  },
  {
   "cell_type": "code",
   "execution_count": null,
   "metadata": {},
   "outputs": [],
   "source": [
    "chrome_options = webdriver.ChromeOptions()\n",
    "chrome_options.add_argument('--ignore-certificate-errors')\n",
    "chrome_options.add_argument('--incognito')\n",
    "chrome_options.add_argument('--headless')\n",
    "service = Service(\"/Users/tumendemberelshalkhaan/Downloads/chromedriver\")\n",
    "driver = webdriver.Chrome(service=service, options = chrome_options)\n",
    "driver.get('http://www.doc.state.al.us/inmatesearch')"
   ]
  },
  {
   "cell_type": "code",
   "execution_count": null,
   "metadata": {},
   "outputs": [],
   "source": [
    "ids = []\n",
    "\n",
    "for letter in string.ascii_lowercase:\n",
    "\n",
    "    driver.find_element('name', 'ctl00$MainContent$txtLName').send_keys(letter)\n",
    "    driver.find_element('name', 'ctl00$MainContent$btnSearch').click()\n",
    "    current = int(driver.find_element('id', 'MainContent_gvInmateResults_lblCurrent').text)\n",
    "    pages = int(driver.find_element('id', 'MainContent_gvInmateResults_lblPages').text)\n",
    "    ratio = current/pages\n",
    "\n",
    "    while ratio < 1:\n",
    "        next = driver.find_element(\"id\", 'MainContent_gvInmateResults_btnNext')\n",
    "        table = driver.find_element(\"id\", \"MainContent_gvInmateResults\")\n",
    "        rows = table.find_elements(\"xpath\", \".//tr\")\n",
    "        for row in rows[:-1]:\n",
    "            cells = row.find_elements(\"tag name\", \"td\")\n",
    "            if cells:\n",
    "                ids.append(cells[0].text)\n",
    "        current = int(driver.find_element('id', 'MainContent_gvInmateResults_lblCurrent').text)\n",
    "        pages = int(driver.find_element('id', 'MainContent_gvInmateResults_lblPages').text)\n",
    "        ratio = current/pages\n",
    "        next.click()\n",
    "    driver.get('http://www.doc.state.al.us/inmatesearch')"
   ]
  },
  {
   "cell_type": "code",
   "execution_count": null,
   "metadata": {},
   "outputs": [],
   "source": [
    "al = pd.DataFrame(columns=['ID', 'Name', 'Race', 'Date Of Birth', 'Facility', 'Gender', 'Offense Description', 'Sentence Length', 'County'])"
   ]
  },
  {
   "cell_type": "code",
   "execution_count": null,
   "metadata": {},
   "outputs": [],
   "source": [
    "with open('/Users/tumendemberelshalkhaan/Desktop/Alabama_DOC.csv', 'w', newline='') as file:\n",
    "    writer = csv.writer(file)\n",
    "    for element in ids:\n",
    "        writer.writerow([element])"
   ]
  },
  {
   "cell_type": "code",
   "execution_count": null,
   "metadata": {},
   "outputs": [],
   "source": [
    "import requests\n",
    "from lxml import html"
   ]
  },
  {
   "cell_type": "code",
   "execution_count": null,
   "metadata": {},
   "outputs": [],
   "source": [
    "failed_ids2 = []\n",
    "\n",
    "for id in failed_ids2:\n",
    "    try:\n",
    "        driver.find_element('name', 'ctl00$MainContent$txtAIS').send_keys(id) \n",
    "        driver.find_element('name', 'ctl00$MainContent$btnSearch').click()\n",
    "        driver.find_element('id', 'MainContent_gvInmateResults_lnkInmateName_0').click()\n",
    "        page_source = driver.page_source\n",
    "        soup = BeautifulSoup(page_source, 'lxml')\n",
    "        name = soup.find('td', text = 'Inmate: ').find_next_sibling().get_text()\n",
    "        fac = soup.find('td', text = 'Institution: ').find_next_sibling().get_text()\n",
    "        race = soup.find('td', text = 'Race:').find_next_sibling().get_text()\n",
    "        gender = soup.find('td', text = 'Sex:').find_next_sibling().get_text()\n",
    "        dob = soup.find('td', text = 'Birth Year:').find_next_sibling().get_text()\n",
    "\n",
    "        offenses = []\n",
    "        sentences = []\n",
    "        sendates = []\n",
    "        counties = []\n",
    "        table = soup.find('table', id = 'MainContent_gvSentence_GridView1_0').find()\n",
    "        \n",
    "        for row in table.find_all('tr')[1:]:\n",
    "            data = [cell.get_text(strip=True) for cell in row.find_all('td')]\n",
    "            offenses.append(data[2])\n",
    "            sentences.append(data[3])\n",
    "            counties.append(data[5])\n",
    "\n",
    "        histories = [list(history) for history in zip(offenses, sentences, counties)]\n",
    "\n",
    "        rows = []\n",
    "\n",
    "        for history in histories:\n",
    "            row = {\n",
    "                'ID': id,\n",
    "                'Name': name,\n",
    "                'Date Of Birth': dob,\n",
    "                'Gender': gender,\n",
    "                'Race': race,\n",
    "                'Facility': fac,\n",
    "                'Offense Description': history[0],\n",
    "                'Sentence Length': history[1],\n",
    "                'County': history[2]\n",
    "                }\n",
    "            rows.append(row)\n",
    "\n",
    "        al = pd.concat([al, pd.DataFrame(rows)])\n",
    "        driver.get('http://www.doc.state.al.us/inmatesearch')\n",
    "        time.sleep(2)   \n",
    "    except Exception as e:\n",
    "        print(f\"Failed to scrape {id}. Error: {e}\")\n",
    "        failed_ids2.append(id)\n",
    "        continue\n"
   ]
  },
  {
   "cell_type": "code",
   "execution_count": null,
   "metadata": {},
   "outputs": [],
   "source": [
    "\"javascript:__doPostBack('ctl00$MainContent$gvInmateResults$ctl04$lnkInmateName','')\""
   ]
  },
  {
   "cell_type": "code",
   "execution_count": null,
   "metadata": {},
   "outputs": [],
   "source": [
    "al.to_csv('/Users/tumendemberelshalkhaan/Desktop/Alabama_Raw.csv', index=False)"
   ]
  }
 ],
 "metadata": {
  "kernelspec": {
   "display_name": "base",
   "language": "python",
   "name": "python3"
  },
  "language_info": {
   "codemirror_mode": {
    "name": "ipython",
    "version": 3
   },
   "file_extension": ".py",
   "mimetype": "text/x-python",
   "name": "python",
   "nbconvert_exporter": "python",
   "pygments_lexer": "ipython3",
   "version": "3.9.13 (main, Aug 25 2022, 18:29:29) \n[Clang 12.0.0 ]"
  },
  "orig_nbformat": 4,
  "vscode": {
   "interpreter": {
    "hash": "b1988c020eef046636d63474e1fd15d52ead3307ab1218b8c6d1bdc717b4bdae"
   }
  }
 },
 "nbformat": 4,
 "nbformat_minor": 2
}
