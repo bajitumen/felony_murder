{
 "cells": [
  {
   "cell_type": "code",
   "execution_count": 1,
   "metadata": {},
   "outputs": [],
   "source": [
    "from selenium import webdriver\n",
    "from bs4 import BeautifulSoup\n",
    "from selenium.webdriver.support.ui import Select\n",
    "from selenium.webdriver.chrome.service import Service\n",
    "import requests\n",
    "import pandas as pd"
   ]
  },
  {
   "cell_type": "code",
   "execution_count": null,
   "metadata": {},
   "outputs": [],
   "source": [
    "chrome_options = webdriver.ChromeOptions()\n",
    "chrome_options.add_argument('--ignore-certificate-errors')\n",
    "chrome_options.add_argument('--incognito')\n",
    "chrome_options.add_argument('--headless')\n",
    "service = Service(\"/Users/tumendemberelshalkhaan/Downloads/chromedriver\")\n",
    "driver = webdriver.Chrome(service=service, options=chrome_options)\n",
    "driver.get('https://www1.maine.gov/cgi-bin/online/mdoc/search-and-deposit/search.pl?Search=Continue')\n",
    "ids = []"
   ]
  },
  {
   "cell_type": "code",
   "execution_count": null,
   "metadata": {},
   "outputs": [],
   "source": [
    "page_source = driver.page_source\n",
    "soup = BeautifulSoup(page_source, 'lxml')\n",
    "select = soup.find('select', {'name': 'location'})\n",
    "options = select.find_all('option')\n",
    "option_text = [option.text for option in options]\n",
    "locations = [option for option in option_text if \"Facility\" in option]"
   ]
  },
  {
   "cell_type": "code",
   "execution_count": null,
   "metadata": {},
   "outputs": [],
   "source": [
    "for location in locations:\n",
    "    select = Select(driver.find_element(\"name\", 'location'))\n",
    "    select.select_by_visible_text(location)\n",
    "    status = Select(driver.find_element(\"name\", 'status'))\n",
    "    status.select_by_visible_text('Incarcerated')\n",
    "    driver.find_element(\"xpath\", \".//*[@value='Search']\").click()\n",
    "    links = driver.find_elements(\"xpath\", \"//a[starts-with(@href, 'detail.pl?mdoc_number')]\")\n",
    "    for link in links:\n",
    "        if link.text != \"\":\n",
    "            ids.append(link.text)\n",
    "\n",
    "    while True:\n",
    "        try:\n",
    "            next = driver.find_element(\"xpath\", \"//a[contains(text(), 'Next 30 results')]\")\n",
    "        except:\n",
    "            break\n",
    "        links = driver.find_elements(\"xpath\", \"//a[starts-with(@href, 'detail.pl?mdoc_number')]\")\n",
    "        for link in links:\n",
    "            if link.text != \"\":\n",
    "                ids.append(link.text)\n",
    "        next.click()\n",
    "    driver.get('https://www1.maine.gov/cgi-bin/online/mdoc/search-and-deposit/search.pl?Search=Continue')"
   ]
  },
  {
   "cell_type": "code",
   "execution_count": null,
   "metadata": {},
   "outputs": [],
   "source": [
    "me = pd.DataFrame(columns=['ID', 'Name', 'Age', 'Race', 'Date Of Birth', 'Facility', 'Gender', 'Offense Description', 'Sentence Length'])"
   ]
  },
  {
   "cell_type": "code",
   "execution_count": null,
   "metadata": {},
   "outputs": [],
   "source": [
    "for id in ids:    \n",
    "    url = ('https://www1.maine.gov/cgi-bin/online/mdoc/search-and-deposit/detail.pl?mdoc_number1=' + id)\n",
    "    response = requests.get(url)\n",
    "\n",
    "    # Parse the HTML content of the page using BeautifulSoup\n",
    "    soup = BeautifulSoup(response.text, 'html.parser')\n",
    "\n",
    "    # Find the HTML element that contains the offender's name\n",
    "\n",
    "    id_elem = soup.find('td', text='MDOC Number:')\n",
    "    id = id_elem.find_next_sibling('td').get_text()\n",
    "\n",
    "    name_elem = soup.find('td', text='Last Name, First Name, Middle Initial:')\n",
    "    name = name_elem.find_next_sibling('td').get_text()\n",
    "\n",
    "    age_elem = soup.find('td', text='Age (Years):')\n",
    "    age = age_elem.find_next_sibling('td').get_text()\n",
    "\n",
    "    dob_elem = soup.find('td', text='Date of Birth: ')\n",
    "    dob = dob_elem.find_next_sibling('td').get_text()\n",
    "\n",
    "    gender_elem = soup.find('td', text='Gender:')\n",
    "    gender = gender_elem.find_next_sibling('td').get_text()\n",
    "\n",
    "    race_elem = soup.find('td', text='Race/Ethnicity:')\n",
    "    race = race_elem.find_next_sibling('td').get_text()\n",
    "\n",
    "    fac_elem = soup.find('td', text='Location(s) and location phone number(s):')\n",
    "    fac = fac_elem.find_next_sibling('td').get_text()\n",
    "\n",
    "    offenses = []\n",
    "\n",
    "    offense_elem = soup.find_all('td', text='Offense (Class):')\n",
    "    for offense in offense_elem:\n",
    "        offenses.append(offense.find_next_sibling('td').get_text())\n",
    "        \n",
    "    sentences = []\n",
    "    sentence_elem = soup.find_all('td', text='Sentence:')\n",
    "    for sentence in sentence_elem:\n",
    "        sentences.append(sentence.find_next_sibling('td').get_text())\n",
    "\n",
    "    offense_sentence_pairs = [list(pair) for pair in zip(offenses, sentences)]\n",
    "\n",
    "    rows = []\n",
    "    for pair in offense_sentence_pairs:\n",
    "        # Create a new row with the offender's information and the current offense and sentence pair\n",
    "        row = {\n",
    "            'ID': id,\n",
    "            'Name': name,\n",
    "            'Date Of Birth': dob,\n",
    "            'Age': age,\n",
    "            'Gender': gender,\n",
    "            'Race': race,\n",
    "            'Facility': fac,\n",
    "            'Offense Description': pair[0],\n",
    "            'Sentence Length': pair[1]\n",
    "        }\n",
    "        rows.append(row)\n",
    "        # add the new row to the dataframe\n",
    "    me = pd.concat([me, pd.DataFrame(rows)])"
   ]
  },
  {
   "cell_type": "code",
   "execution_count": null,
   "metadata": {},
   "outputs": [],
   "source": [
    "me.to_csv('/Users/tumendemberelshalkhaan/Desktop/Maine_Raw.csv', index=False)"
   ]
  }
 ],
 "metadata": {
  "kernelspec": {
   "display_name": "base",
   "language": "python",
   "name": "python3"
  },
  "language_info": {
   "codemirror_mode": {
    "name": "ipython",
    "version": 3
   },
   "file_extension": ".py",
   "mimetype": "text/x-python",
   "name": "python",
   "nbconvert_exporter": "python",
   "pygments_lexer": "ipython3",
   "version": "3.9.13"
  },
  "orig_nbformat": 4,
  "vscode": {
   "interpreter": {
    "hash": "b1988c020eef046636d63474e1fd15d52ead3307ab1218b8c6d1bdc717b4bdae"
   }
  }
 },
 "nbformat": 4,
 "nbformat_minor": 2
}
