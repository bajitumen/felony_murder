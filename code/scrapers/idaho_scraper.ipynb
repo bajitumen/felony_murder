{
 "cells": [
  {
   "cell_type": "code",
   "execution_count": null,
   "metadata": {},
   "outputs": [],
   "source": [
    "from selenium import webdriver\n",
    "from bs4 import BeautifulSoup\n",
    "from selenium.webdriver.chrome.service import Service\n",
    "import requests\n",
    "import pandas as pd\n",
    "import string"
   ]
  },
  {
   "cell_type": "code",
   "execution_count": null,
   "metadata": {},
   "outputs": [],
   "source": [
    "chrome_options = webdriver.ChromeOptions()\n",
    "chrome_options.add_argument('--ignore-certificate-errors')\n",
    "chrome_options.add_argument('--incognito')\n",
    "chrome_options.add_argument('--headless')\n",
    "service = Service(\"/Users/tumendemberelshalkhaan/Downloads/chromedriver\")\n",
    "driver = webdriver.Chrome(service=service, options = chrome_options)\n",
    "driver.get('https://www.idoc.idaho.gov/content/prisons/resident-client-search')"
   ]
  },
  {
   "cell_type": "code",
   "execution_count": null,
   "metadata": {},
   "outputs": [],
   "source": [
    "combos = []\n",
    "for letter1 in string.ascii_lowercase:\n",
    "    for letter2 in string.ascii_lowercase:\n",
    "        for letter3 in string.ascii_lowercase:\n",
    "            combo = (letter1 + letter2 + letter3)\n",
    "            combos.append(combo)\n",
    "ids = []"
   ]
  },
  {
   "cell_type": "code",
   "execution_count": null,
   "metadata": {},
   "outputs": [],
   "source": [
    "for combo in combos:\n",
    "    driver.find_element('id', 'edit-last-name').send_keys(combo)\n",
    "    driver.find_element('id', 'edit-submit').click()\n",
    "    while True:\n",
    "        try:\n",
    "            next = driver.find_element('xpath', \"//a[starts-with(@title, 'Go to next page')]\")\n",
    "        except:\n",
    "            break\n",
    "        links = driver.find_elements(\"xpath\", \"//a[starts-with(@href, '/content/prisons/resident-client-search/details/')]\")\n",
    "        for link in links:\n",
    "            ids.append(link.text)\n",
    "        next.click()\n",
    "    driver.get('https://www.idoc.idaho.gov/content/prisons/resident-client-search')"
   ]
  },
  {
   "cell_type": "code",
   "execution_count": null,
   "metadata": {},
   "outputs": [],
   "source": [
    "idaho = pd.DataFrame(columns=[])"
   ]
  },
  {
   "cell_type": "code",
   "execution_count": null,
   "metadata": {},
   "outputs": [],
   "source": [
    "failed_ids = []\n",
    "\n",
    "for id in ids:\n",
    "    try:\n",
    "        url = ('https://www.idoc.idaho.gov/content/prisons/resident-client-search/details/' + id)\n",
    "        session = requests.Session()\n",
    "        response = session.get(url)\n",
    "        soup = BeautifulSoup(response.text, 'html.parser')\n",
    "        \n",
    "        details = soup.find('div', {'class': 'people-search-details-wrapper'}).find('div', {'class': 'col-md-3'}).find_all('div', {'class': 'well'})\n",
    "        name_elements = details[0].find_all('strong')\n",
    "        name = name_elements[0].text\n",
    "        age = name_elements[3].next_sibling.text.strip(': ')\n",
    "        status = name_elements[2].next_sibling.text.strip(': ')\n",
    "\n",
    "        offenses = []\n",
    "        counties = []\n",
    "        sendates = []\n",
    "\n",
    "        table = soup.find('table', {'class': 'table-ally table-design'}).find('tbody')\n",
    "\n",
    "        offense_elements = table.find_all('div', text = 'Offense')\n",
    "        county_elements = table.find_all('div', text = 'Sentencing County')\n",
    "        sendate_elements = table.find_all('div', text = 'Sentence Satisfaction Date')\n",
    "\n",
    "        fac = soup.find('strong', text = ['Mailing Address ', 'Supervising District ']).next_sibling.next_sibling.next_sibling.text\n",
    "\n",
    "        for element in offense_elements:\n",
    "            offense = element.next_sibling.text\n",
    "            offenses.append(offense)\n",
    "\n",
    "        for element in county_elements:\n",
    "            county = element.next_sibling.text\n",
    "            counties.append(county)\n",
    " \n",
    "        for element in sendate_elements:\n",
    "            sendate = element.next_sibling.text\n",
    "            sendates.append(sendate)\n",
    "\n",
    "        histories = [list(history) for history in zip(offenses, counties, sendates)]\n",
    "\n",
    "        rows = []\n",
    "\n",
    "        for history in histories:\n",
    "            row = {\n",
    "                'ID': id,\n",
    "                'Name': name,\n",
    "                'Age': age,\n",
    "                'Facility': fac,\n",
    "                'Offense Description': history[0],\n",
    "                'Sentence Satisfaction Date': history[2],\n",
    "                'County': history[1],\n",
    "                'Status': status\n",
    "                }\n",
    "            rows.append(row)\n",
    "            idaho = pd.concat([idaho, pd.DataFrame(rows)])\n",
    "\n",
    "    except Exception as e:\n",
    "        print(f\"Failed to scrape {id}. Error: {e}\")\n",
    "        failed_ids.append(id)\n",
    "        continue"
   ]
  },
  {
   "cell_type": "code",
   "execution_count": null,
   "metadata": {},
   "outputs": [],
   "source": [
    "idaho.to_csv('/Users/tumendemberelshalkhaan/Desktop/felony_murder/raw_data/Idaho_Raw.csv', index=False)"
   ]
  }
 ],
 "metadata": {
  "kernelspec": {
   "display_name": "base",
   "language": "python",
   "name": "python3"
  },
  "language_info": {
   "codemirror_mode": {
    "name": "ipython",
    "version": 3
   },
   "file_extension": ".py",
   "mimetype": "text/x-python",
   "name": "python",
   "nbconvert_exporter": "python",
   "pygments_lexer": "ipython3",
   "version": "3.9.13"
  },
  "orig_nbformat": 4,
  "vscode": {
   "interpreter": {
    "hash": "b1988c020eef046636d63474e1fd15d52ead3307ab1218b8c6d1bdc717b4bdae"
   }
  }
 },
 "nbformat": 4,
 "nbformat_minor": 2
}
