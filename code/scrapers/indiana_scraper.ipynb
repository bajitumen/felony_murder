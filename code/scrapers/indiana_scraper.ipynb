{
 "cells": [
  {
   "cell_type": "code",
   "execution_count": null,
   "metadata": {},
   "outputs": [],
   "source": [
    "from bs4 import BeautifulSoup\n",
    "import requests\n",
    "import pandas as pd\n",
    "import itertools"
   ]
  },
  {
   "cell_type": "code",
   "execution_count": null,
   "metadata": {},
   "outputs": [],
   "source": [
    "choices = range(10)\n",
    "\n",
    "combinations = itertools.product(choices, repeat=5)\n",
    "\n",
    "numbers = []\n",
    "\n",
    "for c in combinations:\n",
    "    number = ''.join(str(x) for x in c)\n",
    "    numbers.append(number)\n",
    "\n",
    "ids = []\n",
    "\n",
    "for n in ['1', '2', '8', '9']:\n",
    "    for number in numbers:\n",
    "        id = n + number\n",
    "        ids.append(id)"
   ]
  },
  {
   "cell_type": "code",
   "execution_count": null,
   "metadata": {},
   "outputs": [],
   "source": [
    "indiana = pd.DataFrame(columns=[])"
   ]
  },
  {
   "cell_type": "code",
   "execution_count": null,
   "metadata": {},
   "outputs": [],
   "source": [
    "for id in ids:\n",
    "    url = 'https://www.in.gov/apps/indcorrection/ofs/ofs?previous_page=1&detail=' + id\n",
    "    response = requests.get(url)\n",
    "    soup = BeautifulSoup(response.text, 'lxml')\n",
    "    fac = soup.find('strong', text = 'Facility/Location').find_parent('td').find_next_sibling('td').get_text()\n",
    "    if fac not in ['', 'Discharge', 'Returned to court authority on release', 'Delinquent', 'Deceased']:\n",
    "        table = soup.find('table', {'border': '0', 'width': '100%', 'bgcolor': '#FFFFFF'}).find_all('td')\n",
    "        name = table[0].text\n",
    "        dob = soup.find('strong', text = 'Date \\n              of Birth').find_parent('td').find_next_sibling('td').get_text()\n",
    "        gender = soup.find('strong', text = 'Gender').find_parent('td').find_next_sibling('td').get_text()\n",
    "        race = soup.find('strong', text = 'Race').find_parent('td').find_next_sibling('td').get_text()\n",
    "\n",
    "        sendates = []\n",
    "        offenses = []\n",
    "        sentences = []\n",
    "        counties = []\n",
    "        codes = []\n",
    "\n",
    "        sendate_elements = soup.find_all('strong', text = 'Date \\n              of Sentence')\n",
    "        for sendate in sendate_elements:\n",
    "            sendates.append(sendate.find_parent('td').find_next_sibling('td').get_text())\n",
    "        offense_elements = soup.find_all('strong', text = 'Description')\n",
    "        for offense in offense_elements:\n",
    "            offenses.append(offense.find_parent('td').find_next_sibling('td').get_text())\n",
    "        sentence_elements = soup.find_all('strong', text = 'Term \\n              in  Years / Months / Days')\n",
    "        for sentence in sentence_elements:\n",
    "            sentables = sentence.find_parent('td').find_next_sibling('td').find_all('table')\n",
    "            for sentable in sentables:\n",
    "                times = sentable.find_all('td')\n",
    "                years = times[0].text\n",
    "                months = times[1].text\n",
    "                days = times[2].text\n",
    "                term = years + '-' + months + '-' + days\n",
    "                sentences.append(term)\n",
    "        county_elements = soup.find_all('strong', text = 'County \\n              of Conviction')\n",
    "        for county in county_elements:\n",
    "            counties.append(county.find_parent('td').find_next_sibling('td').get_text())\n",
    "        code_elements = soup.find_all('strong', text = 'Indiana \\n              Citation Code')\n",
    "        for code in code_elements:\n",
    "            codes.append(code.find_parent('td').find_next_sibling('td').get_text())\n",
    "\n",
    "        crimes = [list(pair) for pair in zip(offenses, sentences, sendates, counties, codes)]\n",
    "        rows = []\n",
    "        for pair in crimes:\n",
    "            row = {\n",
    "                'ID': id,\n",
    "                'Name': name,\n",
    "                'Date Of Birth': dob,\n",
    "                'Gender': gender,\n",
    "                'Race': race,\n",
    "                'Facility': fac,\n",
    "                'Offense Description': pair[0],\n",
    "                'Sentence Length': pair[1],\n",
    "                'Sentence Date': pair[2],\n",
    "                'County': pair[3],\n",
    "                'Offense Code': pair[4]\n",
    "            }\n",
    "            rows.append(row)\n",
    "            \n",
    "        indiana = pd.concat([indiana, pd.DataFrame(rows)])\n"
   ]
  }
 ],
 "metadata": {
  "kernelspec": {
   "display_name": "base",
   "language": "python",
   "name": "python3"
  },
  "language_info": {
   "codemirror_mode": {
    "name": "ipython",
    "version": 3
   },
   "file_extension": ".py",
   "mimetype": "text/x-python",
   "name": "python",
   "nbconvert_exporter": "python",
   "pygments_lexer": "ipython3",
   "version": "3.9.13"
  },
  "orig_nbformat": 4,
  "vscode": {
   "interpreter": {
    "hash": "b1988c020eef046636d63474e1fd15d52ead3307ab1218b8c6d1bdc717b4bdae"
   }
  }
 },
 "nbformat": 4,
 "nbformat_minor": 2
}
